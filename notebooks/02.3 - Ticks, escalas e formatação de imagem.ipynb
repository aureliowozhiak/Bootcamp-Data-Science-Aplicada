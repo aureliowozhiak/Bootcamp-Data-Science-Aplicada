{
 "cells": [
  {
   "cell_type": "markdown",
   "metadata": {
    "id": "wy_ncUgeYjfh"
   },
   "source": [
    "# 02.3 - Ticks, escalas e formatação de imagem\n",
    "## Tratamento, exploração e visualização de dados Tratamento, exploração e visualização de dados\n",
    "\n",
    "Dataset: \n",
    "\n",
    "http://tabnet.datasus.gov.br/cgi/deftohtm.exe?sih/cnv/qiuf.def\n",
    "Filtros aplicados:\n",
    " - Linha: Unidade da Federação\n",
    " - Coluna: Ano/Mês atendimento\n",
    " - Conteúdo: Valor total\n",
    " - Períodos disponíveis: Jan/2008 até Mar/2021\n",
    " \n",
    " <br/>\n",
    " \n",
    "https://www.ibge.gov.br/estatisticas/sociais/populacao/9103-estimativas-de-populacao.html?=&t=resultados\n",
    "Estimativas de população publicadas no DOU\n",
    " \n",
    "- Tabela de estimativas populacionais para os municípios e para as Unidades da Federação brasileiros em 01.07.2020:\n",
    "\n",
    "\"Atendendo ao dispositivo legal, Lei nº 8443, de 16 de julho de 1992, no artigo 102, o IBGE fez publicar no Diário Oficial da União, em 27 de agosto de 2020, as estimativas de população para os municípios e para as Unidades da Federação brasileiros, com data de referência em 1º de julho de 2020. A Lei complementar nº 143, de 17 de julho de 2013, alterou o art. 102 da Lei nº 8443, revogando os parágrafos 1º e 2º, que estabelecia o prazo de 20 dias após a publicação das estimativas no Diário Oficial da União para apresentação de reclamações ao IBGE.\"\n",
    "\n",
    "\n",
    "<br/>\n",
    "\n",
    "https://pt.wikipedia.org/wiki/Lista_de_unidades_federativas_do_Brasil_por_popula%C3%A7%C3%A3o\n",
    "\n",
    "Dados da tabela disponibilizada pelo wikipédia\n",
    " \n",
    " [<- Voltar para o repositório](https://github.com/aureliowozhiak/Bootcamp-Data-Science-Aplicada)"
   ]
  },
  {
   "cell_type": "code",
   "execution_count": 1,
   "metadata": {
    "id": "87K9ISVVY1bn"
   },
   "outputs": [],
   "source": [
    "import pandas as pd"
   ]
  },
  {
   "cell_type": "code",
   "execution_count": 2,
   "metadata": {
    "colab": {
     "base_uri": "https://localhost:8080/",
     "height": 372
    },
    "id": "aUnyypSZZNII",
    "outputId": "7a7bcd66-3214-4e1e-c12b-1a6348ada78c"
   },
   "outputs": [],
   "source": [
    "dados = pd.read_csv(\"https://raw.githubusercontent.com/alura-cursos/agendamento-hospitalar/main/dados/A160324189_28_143_208.csv\",\n",
    "                    encoding=\"ISO-8859-1\", \n",
    "                    skiprows = 3, sep=\";\", skipfooter=12,\n",
    "                    thousands=\".\", decimal=\",\", engine=\"python\")"
   ]
  },
  {
   "cell_type": "code",
   "execution_count": 3,
   "metadata": {
    "colab": {
     "base_uri": "https://localhost:8080/",
     "height": 512
    },
    "id": "aJ9A3GCteSQg",
    "outputId": "f98bdc4f-b7f0-40e6-9a10-26c5df41d337"
   },
   "outputs": [],
   "source": [
    "import matplotlib.pyplot as plt\n",
    "import matplotlib.ticker as ticker"
   ]
  },
  {
   "cell_type": "code",
   "execution_count": 4,
   "metadata": {
    "colab": {
     "base_uri": "https://localhost:8080/"
    },
    "id": "XgXSf2cdkFnx",
    "outputId": "ada8976a-a95c-4f12-c5b4-643fe007b60e"
   },
   "outputs": [],
   "source": [
    "colunas_usaveis = dados.mean().index.tolist()\n",
    "colunas_usaveis.insert(0, \"Unidade da Federação\")"
   ]
  },
  {
   "cell_type": "code",
   "execution_count": 5,
   "metadata": {
    "colab": {
     "base_uri": "https://localhost:8080/",
     "height": 338
    },
    "id": "AHXrWCP5kS-W",
    "outputId": "b0bae6c2-7d22-49ee-eecb-f3165ad07297"
   },
   "outputs": [],
   "source": [
    "usaveis = dados[colunas_usaveis]"
   ]
  },
  {
   "cell_type": "code",
   "execution_count": 6,
   "metadata": {
    "colab": {
     "base_uri": "https://localhost:8080/",
     "height": 1000
    },
    "id": "u_CRNwbfkZO-",
    "outputId": "2bb05088-93f8-477e-e2e8-841610278f14"
   },
   "outputs": [],
   "source": [
    "usaveis = usaveis.set_index(\"Unidade da Federação\")"
   ]
  },
  {
   "cell_type": "code",
   "execution_count": 7,
   "metadata": {
    "colab": {
     "base_uri": "https://localhost:8080/",
     "height": 368
    },
    "id": "60ncKDAFlwMg",
    "outputId": "16d1ce71-c3dd-4f99-f6a4-3617c93f91c2"
   },
   "outputs": [],
   "source": [
    "usaveis = usaveis.drop(\"Total\", axis=1)"
   ]
  },
  {
   "cell_type": "code",
   "execution_count": 8,
   "metadata": {
    "colab": {
     "base_uri": "https://localhost:8080/",
     "height": 368
    },
    "id": "HSMLahftvLLl",
    "outputId": "1aac2788-eba0-492f-a1ee-5b2568c10b0e"
   },
   "outputs": [],
   "source": [
    "usaveis[\"Total\"] = usaveis.sum(axis=1) # [0,1,2] [\"SP\"]"
   ]
  },
  {
   "cell_type": "code",
   "execution_count": 9,
   "metadata": {
    "colab": {
     "base_uri": "https://localhost:8080/",
     "height": 368
    },
    "id": "MIWAh5QXvzT9",
    "outputId": "bb3530e5-233c-4390-8245-9529a87de552"
   },
   "outputs": [],
   "source": [
    "ordenado_por_total = usaveis.sort_values(\"Total\", ascending=False)\n",
    "ordenado_por_total.index = ordenado_por_total.index.str[3:]\n",
    "ordenado_por_total = ordenado_por_total.drop(\"Total\", axis=1)"
   ]
  },
  {
   "cell_type": "code",
   "execution_count": 10,
   "metadata": {
    "id": "kibPpNcexc1w"
   },
   "outputs": [],
   "source": [
    "colunas_interessadas = ordenado_por_total.columns[6:]\n",
    "ordenado_por_total = ordenado_por_total[colunas_interessadas]"
   ]
  },
  {
   "cell_type": "code",
   "execution_count": 11,
   "metadata": {
    "colab": {
     "base_uri": "https://localhost:8080/",
     "height": 391
    },
    "id": "PmOA6aty1ez4",
    "outputId": "c67828b8-f823-45f8-99d0-535b5bf538d7"
   },
   "outputs": [],
   "source": [
    "ordenado_por_total = ordenado_por_total / 1000000"
   ]
  },
  {
   "cell_type": "code",
   "execution_count": 12,
   "metadata": {
    "colab": {
     "base_uri": "https://localhost:8080/",
     "height": 391
    },
    "id": "O6fwQNvK0iBf",
    "outputId": "15f8f47c-bd18-442b-c6a6-97d00bb3932e"
   },
   "outputs": [],
   "source": [
    "meses_filtrados = ordenado_por_total.columns[47:150]"
   ]
  },
  {
   "cell_type": "code",
   "execution_count": 13,
   "metadata": {
    "colab": {
     "base_uri": "https://localhost:8080/",
     "height": 35
    },
    "id": "4CDEFSyz5Pm1",
    "outputId": "669d4f96-af97-432d-ed13-f0c338de1f84"
   },
   "outputs": [],
   "source": [
    "mes_mais_recente = ordenado_por_total.columns[-1]"
   ]
  },
  {
   "cell_type": "code",
   "execution_count": 14,
   "metadata": {
    "colab": {
     "base_uri": "https://localhost:8080/"
    },
    "id": "WLb58UgB67To",
    "outputId": "2b23fcea-7c14-4f8c-f6a8-27ed483a9739"
   },
   "outputs": [],
   "source": [
    "gastos_do_mais_recente = ordenado_por_total[mes_mais_recente]"
   ]
  },
  {
   "cell_type": "code",
   "execution_count": 15,
   "metadata": {
    "colab": {
     "base_uri": "https://localhost:8080/",
     "height": 388
    },
    "id": "7sj2L3i--oCO",
    "outputId": "bef9a1f1-3b58-4947-fc70-30b1b37573c9"
   },
   "outputs": [],
   "source": [
    "gastos_do_mais_recente = gastos_do_mais_recente.sort_values(ascending=False)"
   ]
  },
  {
   "cell_type": "code",
   "execution_count": 16,
   "metadata": {
    "colab": {
     "base_uri": "https://localhost:8080/",
     "height": 388
    },
    "id": "j9F0AHxEB3AD",
    "outputId": "c9144783-b5c5-4790-9b5c-3614fe006d39"
   },
   "outputs": [],
   "source": [
    "gastos_proporcionais = gastos_do_mais_recente / gastos_do_mais_recente.sum()"
   ]
  },
  {
   "cell_type": "code",
   "execution_count": 17,
   "metadata": {
    "colab": {
     "base_uri": "https://localhost:8080/",
     "height": 237
    },
    "id": "nhOqlT8MB43R",
    "outputId": "d1c4c142-e178-44d0-b005-be4927274c55"
   },
   "outputs": [],
   "source": [
    "ibge_estimativa = pd.read_excel(\"https://github.com/alura-cursos/agendamento-hospitalar/raw/main/dados/estimativa_dou_2020.xls\")"
   ]
  },
  {
   "cell_type": "code",
   "execution_count": 18,
   "metadata": {
    "id": "ywsmdh4lDcO8"
   },
   "outputs": [],
   "source": [
    "dados_da_populacao = \"\"\"Posição\tUnidade federativa\tPopulação\t% da pop. total\tPaís comparável\n",
    "(habitantes)\n",
    "\n",
    "1\t São Paulo\t46 289 333\t21,9%\tFlag of Spain.svg Espanha (46 439 864)\n",
    "2\t Minas Gerais\t21 292 666\t10,1%\t Sri Lanka (20 675 000)\n",
    "3\t Rio de Janeiro\t17 366 189\t8,2%\t Países Baixos (16 922 900)\n",
    "4\tBahia Bahia\t14 930 634\t7,1%\t Chade (14 037 000)\n",
    "5\t Paraná\t11 516 840\t5,4%\t Bolívia (11 410 651)\n",
    "6\t Rio Grande do Sul\t11 422 973\t5,4%\t Bélgica (11 250 659)\n",
    "7\t Pernambuco\t9 616 621\t4,5%\t Bielorrússia (9 485 300)\n",
    "8\t Ceará\t9 187 103\t4,3%\t Emirados Árabes Unidos (9 157 000)\n",
    "9\tPará Pará\t8 690 745\t4,1%\t Áustria (8 602 112)\n",
    "10\t Santa Catarina\t7 252 502\t3,4%\t Sérvia (7 114 393)\n",
    "11\t Maranhão\t7 114 598\t3,4%\t Paraguai (7 003 406)\n",
    "12\t Goiás\t7 113 540\t3,4%\t Paraguai (7 003 406)\n",
    "13\t Amazonas\t4 207 714\t2,0%\t Líbano (4 168 000)\n",
    "14\t Espírito Santo\t4 064 052\t1,9%\t Líbano (4 168 000)\n",
    "15\t Paraíba\t4 039 277\t1,9%\t Líbano (4 168 000)\n",
    "16\t Rio Grande do Norte\t3 534 165\t1,7%\t Uruguai (3 415 866)\n",
    "17\t Mato Grosso\t3 526 220\t1,7%\t Uruguai (3 415 866)\n",
    "18\t Alagoas\t3 351 543\t1,6%\t Uruguai (3 415 866)\n",
    "19\t Piauí\t3 281 480\t1,6%\t Kuwait (3 268 431)\n",
    "20\t Distrito Federal\t3 055 149\t1,4%\t Lituânia (2 900 787)\n",
    "21\t Mato Grosso do Sul\t2 809 394\t1,3%\t Jamaica (2 717 991)\n",
    "22\t Sergipe\t2 318 822\t1,1%\t Namíbia (2 280 700)\n",
    "23\t Rondônia\t1 796 460\t0,8%\t Gabão (1 725 000)\n",
    "24\t Tocantins\t1 590 248\t0,7%\t Bahrein (1 359 800)\n",
    "25\t Acre\t894 470\t0,4%\t Fiji (859 178)\n",
    "26\t Amapá\t861 773\t0,4%\t Fiji (859 178)\n",
    "27\t Roraima\t631 181\t0,3%\t Luxemburgo (562 958)\"\"\"\n",
    "\n",
    "# fonte: https://pt.wikipedia.org/wiki/Lista_de_unidades_federativas_do_Brasil_por_popula%C3%A7%C3%A3o#cite_note-IBGE_POP-1"
   ]
  },
  {
   "cell_type": "code",
   "execution_count": 19,
   "metadata": {
    "colab": {
     "base_uri": "https://localhost:8080/",
     "height": 388
    },
    "id": "eifgd0t5EHN3",
    "outputId": "a379a102-1c40-4515-ef28-d0f0580ac14b"
   },
   "outputs": [],
   "source": [
    "from io import StringIO\n",
    "\n",
    "dados_da_populacao_io = StringIO(dados_da_populacao)\n",
    "\n",
    "populacao = pd.read_csv(dados_da_populacao_io, sep=\"\\t\")\n",
    "populacao = populacao.dropna()\n",
    "populacao[\"populacao\"] = populacao[\"População\"].str.replace(\" \", \"\").astype(int)\n",
    "populacao[\"uf\"] = populacao[\"Unidade federativa\"]\n",
    "populacao = populacao[[\"populacao\", \"uf\"]].set_index(\"uf\")"
   ]
  },
  {
   "cell_type": "code",
   "execution_count": 20,
   "metadata": {
    "colab": {
     "base_uri": "https://localhost:8080/",
     "height": 234
    },
    "id": "BkP0DrQ4ICLa",
    "outputId": "902b21d5-415e-4295-9818-9a1d10473ae2"
   },
   "outputs": [],
   "source": [
    "populacao.index = populacao.index.str.strip()"
   ]
  },
  {
   "cell_type": "code",
   "execution_count": 21,
   "metadata": {
    "colab": {
     "base_uri": "https://localhost:8080/"
    },
    "id": "mkpCGx9oJAIv",
    "outputId": "c784420a-0e30-4a96-eedd-45d613dc3df4"
   },
   "outputs": [],
   "source": [
    "for estado in gastos_do_mais_recente.index:\n",
    "    # print(f\"{estado} {estado} => {estado}\")\n",
    "    populacao.index = populacao.index.str.replace(f\"{estado} {estado}\", estado)"
   ]
  },
  {
   "cell_type": "code",
   "execution_count": 22,
   "metadata": {
    "colab": {
     "base_uri": "https://localhost:8080/",
     "height": 234
    },
    "id": "99-WcoONIGxK",
    "outputId": "3c933e2e-dce4-4d49-afa2-f81aa7618cd8"
   },
   "outputs": [],
   "source": [
    "gastos_e_populacao_recente = populacao.join(gastos_do_mais_recente)"
   ]
  },
  {
   "cell_type": "code",
   "execution_count": 23,
   "metadata": {
    "id": "RWEZRruuSr76"
   },
   "outputs": [],
   "source": [
    "def insere_gastos_e_gasto_por_habitante_para(todos_os_gastos: pd.DataFrame, dados: pd.DataFrame, mes: str):\n",
    "    gastos_do_mes = todos_os_gastos[mes]\n",
    "    dados[f\"gastos_{mes}\"] = gastos_do_mes * 1000000\n",
    "    dados[f\"gasto_por_habitante_{mes}\"] = dados[f\"gastos_{mes}\"] / dados[\"populacao\"]"
   ]
  },
  {
   "cell_type": "code",
   "execution_count": 24,
   "metadata": {
    "colab": {
     "base_uri": "https://localhost:8080/",
     "height": 308
    },
    "id": "R9nxvwxHKwW6",
    "outputId": "94bc3589-16eb-46e2-dcc2-f23b143546b2"
   },
   "outputs": [],
   "source": [
    "# horripilante (data visualization)\n",
    "insere_gastos_e_gasto_por_habitante_para(ordenado_por_total, gastos_e_populacao_recente, \"2020/Jul\")"
   ]
  },
  {
   "cell_type": "code",
   "execution_count": 25,
   "metadata": {
    "colab": {
     "base_uri": "https://localhost:8080/",
     "height": 296
    },
    "id": "I633tT-lQKlw",
    "outputId": "7ebc8a00-0bfc-4fbf-ce50-561ef9b53b6f"
   },
   "outputs": [],
   "source": [
    "import seaborn as sns"
   ]
  },
  {
   "cell_type": "code",
   "execution_count": 26,
   "metadata": {
    "colab": {
     "base_uri": "https://localhost:8080/",
     "height": 305
    },
    "id": "MvXnEFihRnYh",
    "outputId": "6f2db5bd-1a22-433f-d5d1-f7702e0b484f"
   },
   "outputs": [],
   "source": [
    "insere_gastos_e_gasto_por_habitante_para(ordenado_por_total, gastos_e_populacao_recente, \"2020/Jun\")\n",
    "insere_gastos_e_gasto_por_habitante_para(ordenado_por_total, gastos_e_populacao_recente, \"2020/Mai\")\n",
    "insere_gastos_e_gasto_por_habitante_para(ordenado_por_total, gastos_e_populacao_recente, \"2020/Abr\")"
   ]
  },
  {
   "cell_type": "code",
   "execution_count": 27,
   "metadata": {},
   "outputs": [
    {
     "data": {
      "text/html": [
       "<div>\n",
       "<style scoped>\n",
       "    .dataframe tbody tr th:only-of-type {\n",
       "        vertical-align: middle;\n",
       "    }\n",
       "\n",
       "    .dataframe tbody tr th {\n",
       "        vertical-align: top;\n",
       "    }\n",
       "\n",
       "    .dataframe thead th {\n",
       "        text-align: right;\n",
       "    }\n",
       "</style>\n",
       "<table border=\"1\" class=\"dataframe\">\n",
       "  <thead>\n",
       "    <tr style=\"text-align: right;\">\n",
       "      <th></th>\n",
       "      <th>2008/Fev</th>\n",
       "      <th>2008/Mar</th>\n",
       "      <th>2008/Abr</th>\n",
       "      <th>2008/Mai</th>\n",
       "      <th>2008/Jun</th>\n",
       "      <th>2008/Jul</th>\n",
       "      <th>2008/Ago</th>\n",
       "      <th>2008/Set</th>\n",
       "      <th>2008/Out</th>\n",
       "      <th>2008/Nov</th>\n",
       "      <th>...</th>\n",
       "      <th>2019/Out</th>\n",
       "      <th>2019/Nov</th>\n",
       "      <th>2019/Dez</th>\n",
       "      <th>2020/Jan</th>\n",
       "      <th>2020/Fev</th>\n",
       "      <th>2020/Mar</th>\n",
       "      <th>2020/Abr</th>\n",
       "      <th>2020/Mai</th>\n",
       "      <th>2020/Jun</th>\n",
       "      <th>2020/Jul</th>\n",
       "    </tr>\n",
       "    <tr>\n",
       "      <th>Unidade da Federação</th>\n",
       "      <th></th>\n",
       "      <th></th>\n",
       "      <th></th>\n",
       "      <th></th>\n",
       "      <th></th>\n",
       "      <th></th>\n",
       "      <th></th>\n",
       "      <th></th>\n",
       "      <th></th>\n",
       "      <th></th>\n",
       "      <th></th>\n",
       "      <th></th>\n",
       "      <th></th>\n",
       "      <th></th>\n",
       "      <th></th>\n",
       "      <th></th>\n",
       "      <th></th>\n",
       "      <th></th>\n",
       "      <th></th>\n",
       "      <th></th>\n",
       "      <th></th>\n",
       "    </tr>\n",
       "  </thead>\n",
       "  <tbody>\n",
       "    <tr>\n",
       "      <th>São Paulo</th>\n",
       "      <td>172.834915</td>\n",
       "      <td>170.481850</td>\n",
       "      <td>170.278286</td>\n",
       "      <td>172.402181</td>\n",
       "      <td>175.416596</td>\n",
       "      <td>179.525002</td>\n",
       "      <td>179.898070</td>\n",
       "      <td>180.082204</td>\n",
       "      <td>191.685220</td>\n",
       "      <td>190.539739</td>\n",
       "      <td>...</td>\n",
       "      <td>303.382527</td>\n",
       "      <td>282.391773</td>\n",
       "      <td>272.697695</td>\n",
       "      <td>301.991168</td>\n",
       "      <td>271.356784</td>\n",
       "      <td>276.606289</td>\n",
       "      <td>251.696363</td>\n",
       "      <td>302.857661</td>\n",
       "      <td>299.060852</td>\n",
       "      <td>282.709570</td>\n",
       "    </tr>\n",
       "    <tr>\n",
       "      <th>Minas Gerais</th>\n",
       "      <td>70.301090</td>\n",
       "      <td>79.119006</td>\n",
       "      <td>79.046322</td>\n",
       "      <td>79.268070</td>\n",
       "      <td>79.608653</td>\n",
       "      <td>82.200224</td>\n",
       "      <td>80.374117</td>\n",
       "      <td>82.400147</td>\n",
       "      <td>88.613477</td>\n",
       "      <td>84.486996</td>\n",
       "      <td>...</td>\n",
       "      <td>166.133803</td>\n",
       "      <td>152.106660</td>\n",
       "      <td>152.398599</td>\n",
       "      <td>158.097904</td>\n",
       "      <td>141.323176</td>\n",
       "      <td>147.078556</td>\n",
       "      <td>126.330650</td>\n",
       "      <td>136.867276</td>\n",
       "      <td>135.977572</td>\n",
       "      <td>120.467187</td>\n",
       "    </tr>\n",
       "    <tr>\n",
       "      <th>Paraná</th>\n",
       "      <td>48.855046</td>\n",
       "      <td>55.611791</td>\n",
       "      <td>56.115136</td>\n",
       "      <td>55.574832</td>\n",
       "      <td>56.094755</td>\n",
       "      <td>59.802402</td>\n",
       "      <td>56.699001</td>\n",
       "      <td>58.091986</td>\n",
       "      <td>61.365941</td>\n",
       "      <td>59.667209</td>\n",
       "      <td>...</td>\n",
       "      <td>133.847978</td>\n",
       "      <td>126.209369</td>\n",
       "      <td>113.545319</td>\n",
       "      <td>122.268754</td>\n",
       "      <td>116.061603</td>\n",
       "      <td>114.476998</td>\n",
       "      <td>96.727112</td>\n",
       "      <td>106.103738</td>\n",
       "      <td>92.901461</td>\n",
       "      <td>80.320853</td>\n",
       "    </tr>\n",
       "    <tr>\n",
       "      <th>Rio Grande do Sul</th>\n",
       "      <td>45.897705</td>\n",
       "      <td>52.928696</td>\n",
       "      <td>51.972417</td>\n",
       "      <td>51.679351</td>\n",
       "      <td>53.759674</td>\n",
       "      <td>56.391648</td>\n",
       "      <td>56.233759</td>\n",
       "      <td>57.910171</td>\n",
       "      <td>59.592125</td>\n",
       "      <td>57.565742</td>\n",
       "      <td>...</td>\n",
       "      <td>96.913905</td>\n",
       "      <td>90.971809</td>\n",
       "      <td>88.720874</td>\n",
       "      <td>97.474363</td>\n",
       "      <td>85.451646</td>\n",
       "      <td>84.651397</td>\n",
       "      <td>76.294597</td>\n",
       "      <td>86.076113</td>\n",
       "      <td>89.019479</td>\n",
       "      <td>78.929704</td>\n",
       "    </tr>\n",
       "    <tr>\n",
       "      <th>Rio de Janeiro</th>\n",
       "      <td>44.122593</td>\n",
       "      <td>42.892666</td>\n",
       "      <td>45.295963</td>\n",
       "      <td>43.951349</td>\n",
       "      <td>44.102926</td>\n",
       "      <td>44.348520</td>\n",
       "      <td>42.487940</td>\n",
       "      <td>43.066461</td>\n",
       "      <td>44.553315</td>\n",
       "      <td>41.351512</td>\n",
       "      <td>...</td>\n",
       "      <td>82.247729</td>\n",
       "      <td>74.620477</td>\n",
       "      <td>74.895862</td>\n",
       "      <td>79.705664</td>\n",
       "      <td>72.412810</td>\n",
       "      <td>73.594498</td>\n",
       "      <td>68.160773</td>\n",
       "      <td>86.281033</td>\n",
       "      <td>77.604925</td>\n",
       "      <td>71.540227</td>\n",
       "    </tr>\n",
       "  </tbody>\n",
       "</table>\n",
       "<p>5 rows × 150 columns</p>\n",
       "</div>"
      ],
      "text/plain": [
       "                        2008/Fev    2008/Mar    2008/Abr    2008/Mai  \\\n",
       "Unidade da Federação                                                   \n",
       "São Paulo             172.834915  170.481850  170.278286  172.402181   \n",
       "Minas Gerais           70.301090   79.119006   79.046322   79.268070   \n",
       "Paraná                 48.855046   55.611791   56.115136   55.574832   \n",
       "Rio Grande do Sul      45.897705   52.928696   51.972417   51.679351   \n",
       "Rio de Janeiro         44.122593   42.892666   45.295963   43.951349   \n",
       "\n",
       "                        2008/Jun    2008/Jul    2008/Ago    2008/Set  \\\n",
       "Unidade da Federação                                                   \n",
       "São Paulo             175.416596  179.525002  179.898070  180.082204   \n",
       "Minas Gerais           79.608653   82.200224   80.374117   82.400147   \n",
       "Paraná                 56.094755   59.802402   56.699001   58.091986   \n",
       "Rio Grande do Sul      53.759674   56.391648   56.233759   57.910171   \n",
       "Rio de Janeiro         44.102926   44.348520   42.487940   43.066461   \n",
       "\n",
       "                        2008/Out    2008/Nov  ...    2019/Out    2019/Nov  \\\n",
       "Unidade da Federação                          ...                           \n",
       "São Paulo             191.685220  190.539739  ...  303.382527  282.391773   \n",
       "Minas Gerais           88.613477   84.486996  ...  166.133803  152.106660   \n",
       "Paraná                 61.365941   59.667209  ...  133.847978  126.209369   \n",
       "Rio Grande do Sul      59.592125   57.565742  ...   96.913905   90.971809   \n",
       "Rio de Janeiro         44.553315   41.351512  ...   82.247729   74.620477   \n",
       "\n",
       "                        2019/Dez    2020/Jan    2020/Fev    2020/Mar  \\\n",
       "Unidade da Federação                                                   \n",
       "São Paulo             272.697695  301.991168  271.356784  276.606289   \n",
       "Minas Gerais          152.398599  158.097904  141.323176  147.078556   \n",
       "Paraná                113.545319  122.268754  116.061603  114.476998   \n",
       "Rio Grande do Sul      88.720874   97.474363   85.451646   84.651397   \n",
       "Rio de Janeiro         74.895862   79.705664   72.412810   73.594498   \n",
       "\n",
       "                        2020/Abr    2020/Mai    2020/Jun    2020/Jul  \n",
       "Unidade da Federação                                                  \n",
       "São Paulo             251.696363  302.857661  299.060852  282.709570  \n",
       "Minas Gerais          126.330650  136.867276  135.977572  120.467187  \n",
       "Paraná                 96.727112  106.103738   92.901461   80.320853  \n",
       "Rio Grande do Sul      76.294597   86.076113   89.019479   78.929704  \n",
       "Rio de Janeiro         68.160773   86.281033   77.604925   71.540227  \n",
       "\n",
       "[5 rows x 150 columns]"
      ]
     },
     "execution_count": 27,
     "metadata": {},
     "output_type": "execute_result"
    }
   ],
   "source": [
    "ordenado_por_total.head()"
   ]
  },
  {
   "cell_type": "code",
   "execution_count": 28,
   "metadata": {},
   "outputs": [
    {
     "data": {
      "text/plain": [
       "<AxesSubplot:ylabel='São Paulo'>"
      ]
     },
     "execution_count": 28,
     "metadata": {},
     "output_type": "execute_result"
    },
    {
     "data": {
      "image/png": "[encoded data removed]",
      "text/plain": [
       "<Figure size 432x288 with 1 Axes>"
      ]
     },
     "metadata": {
      "needs_background": "light"
     },
     "output_type": "display_data"
    }
   ],
   "source": [
    "sns.scatterplot(x=ordenado_por_total.columns, y=ordenado_por_total.loc[\"São Paulo\"])"
   ]
  },
  {
   "cell_type": "code",
   "execution_count": 38,
   "metadata": {},
   "outputs": [
    {
     "data": {
      "text/html": [
       "<div>\n",
       "<style scoped>\n",
       "    .dataframe tbody tr th:only-of-type {\n",
       "        vertical-align: middle;\n",
       "    }\n",
       "\n",
       "    .dataframe tbody tr th {\n",
       "        vertical-align: top;\n",
       "    }\n",
       "\n",
       "    .dataframe thead th {\n",
       "        text-align: right;\n",
       "    }\n",
       "</style>\n",
       "<table border=\"1\" class=\"dataframe\">\n",
       "  <thead>\n",
       "    <tr style=\"text-align: right;\">\n",
       "      <th>Unidade da Federação</th>\n",
       "      <th>São Paulo</th>\n",
       "      <th>Minas Gerais</th>\n",
       "      <th>Paraná</th>\n",
       "      <th>Rio Grande do Sul</th>\n",
       "      <th>Rio de Janeiro</th>\n",
       "      <th>Bahia</th>\n",
       "      <th>Pernambuco</th>\n",
       "      <th>Santa Catarina</th>\n",
       "      <th>Ceará</th>\n",
       "      <th>Goiás</th>\n",
       "      <th>...</th>\n",
       "      <th>Piauí</th>\n",
       "      <th>Alagoas</th>\n",
       "      <th>Mato Grosso</th>\n",
       "      <th>Amazonas</th>\n",
       "      <th>Sergipe</th>\n",
       "      <th>Tocantins</th>\n",
       "      <th>Rondônia</th>\n",
       "      <th>Acre</th>\n",
       "      <th>Roraima</th>\n",
       "      <th>Amapá</th>\n",
       "    </tr>\n",
       "  </thead>\n",
       "  <tbody>\n",
       "    <tr>\n",
       "      <th>2008/Fev</th>\n",
       "      <td>172.834915</td>\n",
       "      <td>70.301090</td>\n",
       "      <td>48.855046</td>\n",
       "      <td>45.897705</td>\n",
       "      <td>44.122593</td>\n",
       "      <td>33.410124</td>\n",
       "      <td>26.222079</td>\n",
       "      <td>24.409573</td>\n",
       "      <td>27.643305</td>\n",
       "      <td>18.149374</td>\n",
       "      <td>...</td>\n",
       "      <td>9.711680</td>\n",
       "      <td>8.112220</td>\n",
       "      <td>7.929895</td>\n",
       "      <td>7.934652</td>\n",
       "      <td>4.636851</td>\n",
       "      <td>5.051932</td>\n",
       "      <td>1.940793</td>\n",
       "      <td>1.743979</td>\n",
       "      <td>0.771688</td>\n",
       "      <td>1.275064</td>\n",
       "    </tr>\n",
       "    <tr>\n",
       "      <th>2008/Mar</th>\n",
       "      <td>170.481850</td>\n",
       "      <td>79.119006</td>\n",
       "      <td>55.611791</td>\n",
       "      <td>52.928696</td>\n",
       "      <td>42.892666</td>\n",
       "      <td>41.301703</td>\n",
       "      <td>30.716362</td>\n",
       "      <td>27.483480</td>\n",
       "      <td>30.085370</td>\n",
       "      <td>20.992213</td>\n",
       "      <td>...</td>\n",
       "      <td>10.428191</td>\n",
       "      <td>9.210506</td>\n",
       "      <td>9.416368</td>\n",
       "      <td>8.641517</td>\n",
       "      <td>5.017838</td>\n",
       "      <td>5.200152</td>\n",
       "      <td>1.955722</td>\n",
       "      <td>2.057439</td>\n",
       "      <td>0.876091</td>\n",
       "      <td>1.177746</td>\n",
       "    </tr>\n",
       "    <tr>\n",
       "      <th>2008/Abr</th>\n",
       "      <td>170.278286</td>\n",
       "      <td>79.046322</td>\n",
       "      <td>56.115136</td>\n",
       "      <td>51.972417</td>\n",
       "      <td>45.295963</td>\n",
       "      <td>42.826994</td>\n",
       "      <td>30.589333</td>\n",
       "      <td>27.806641</td>\n",
       "      <td>31.376221</td>\n",
       "      <td>21.049477</td>\n",
       "      <td>...</td>\n",
       "      <td>10.227943</td>\n",
       "      <td>10.466692</td>\n",
       "      <td>9.390588</td>\n",
       "      <td>8.531576</td>\n",
       "      <td>5.265951</td>\n",
       "      <td>5.343715</td>\n",
       "      <td>2.143354</td>\n",
       "      <td>2.057830</td>\n",
       "      <td>0.896953</td>\n",
       "      <td>1.396372</td>\n",
       "    </tr>\n",
       "    <tr>\n",
       "      <th>2008/Mai</th>\n",
       "      <td>172.402181</td>\n",
       "      <td>79.268070</td>\n",
       "      <td>55.574832</td>\n",
       "      <td>51.679351</td>\n",
       "      <td>43.951349</td>\n",
       "      <td>42.071294</td>\n",
       "      <td>31.409553</td>\n",
       "      <td>28.354280</td>\n",
       "      <td>31.189905</td>\n",
       "      <td>19.162547</td>\n",
       "      <td>...</td>\n",
       "      <td>10.562149</td>\n",
       "      <td>9.844096</td>\n",
       "      <td>9.378197</td>\n",
       "      <td>9.079902</td>\n",
       "      <td>5.367095</td>\n",
       "      <td>5.344488</td>\n",
       "      <td>2.280383</td>\n",
       "      <td>2.226578</td>\n",
       "      <td>1.027289</td>\n",
       "      <td>1.411521</td>\n",
       "    </tr>\n",
       "    <tr>\n",
       "      <th>2008/Jun</th>\n",
       "      <td>175.416596</td>\n",
       "      <td>79.608653</td>\n",
       "      <td>56.094755</td>\n",
       "      <td>53.759674</td>\n",
       "      <td>44.102926</td>\n",
       "      <td>39.910042</td>\n",
       "      <td>28.947511</td>\n",
       "      <td>28.993293</td>\n",
       "      <td>29.463965</td>\n",
       "      <td>20.332534</td>\n",
       "      <td>...</td>\n",
       "      <td>10.465089</td>\n",
       "      <td>10.288668</td>\n",
       "      <td>9.450301</td>\n",
       "      <td>8.646296</td>\n",
       "      <td>4.981036</td>\n",
       "      <td>5.398413</td>\n",
       "      <td>2.624543</td>\n",
       "      <td>2.112577</td>\n",
       "      <td>0.938294</td>\n",
       "      <td>1.420892</td>\n",
       "    </tr>\n",
       "    <tr>\n",
       "      <th>...</th>\n",
       "      <td>...</td>\n",
       "      <td>...</td>\n",
       "      <td>...</td>\n",
       "      <td>...</td>\n",
       "      <td>...</td>\n",
       "      <td>...</td>\n",
       "      <td>...</td>\n",
       "      <td>...</td>\n",
       "      <td>...</td>\n",
       "      <td>...</td>\n",
       "      <td>...</td>\n",
       "      <td>...</td>\n",
       "      <td>...</td>\n",
       "      <td>...</td>\n",
       "      <td>...</td>\n",
       "      <td>...</td>\n",
       "      <td>...</td>\n",
       "      <td>...</td>\n",
       "      <td>...</td>\n",
       "      <td>...</td>\n",
       "      <td>...</td>\n",
       "    </tr>\n",
       "    <tr>\n",
       "      <th>2020/Mar</th>\n",
       "      <td>276.606289</td>\n",
       "      <td>147.078556</td>\n",
       "      <td>114.476998</td>\n",
       "      <td>84.651397</td>\n",
       "      <td>73.594498</td>\n",
       "      <td>70.340301</td>\n",
       "      <td>59.628674</td>\n",
       "      <td>56.709962</td>\n",
       "      <td>46.395357</td>\n",
       "      <td>34.558309</td>\n",
       "      <td>...</td>\n",
       "      <td>15.318975</td>\n",
       "      <td>15.998722</td>\n",
       "      <td>14.444208</td>\n",
       "      <td>14.773739</td>\n",
       "      <td>9.193249</td>\n",
       "      <td>7.025821</td>\n",
       "      <td>7.174312</td>\n",
       "      <td>2.859102</td>\n",
       "      <td>2.813954</td>\n",
       "      <td>2.286241</td>\n",
       "    </tr>\n",
       "    <tr>\n",
       "      <th>2020/Abr</th>\n",
       "      <td>251.696363</td>\n",
       "      <td>126.330650</td>\n",
       "      <td>96.727112</td>\n",
       "      <td>76.294597</td>\n",
       "      <td>68.160773</td>\n",
       "      <td>59.109689</td>\n",
       "      <td>53.843729</td>\n",
       "      <td>51.179993</td>\n",
       "      <td>43.468817</td>\n",
       "      <td>27.499308</td>\n",
       "      <td>...</td>\n",
       "      <td>11.878587</td>\n",
       "      <td>14.241361</td>\n",
       "      <td>11.943714</td>\n",
       "      <td>16.330914</td>\n",
       "      <td>8.395907</td>\n",
       "      <td>6.204453</td>\n",
       "      <td>7.423679</td>\n",
       "      <td>2.472063</td>\n",
       "      <td>2.304961</td>\n",
       "      <td>1.774558</td>\n",
       "    </tr>\n",
       "    <tr>\n",
       "      <th>2020/Mai</th>\n",
       "      <td>302.857661</td>\n",
       "      <td>136.867276</td>\n",
       "      <td>106.103738</td>\n",
       "      <td>86.076113</td>\n",
       "      <td>86.281033</td>\n",
       "      <td>61.756776</td>\n",
       "      <td>65.424719</td>\n",
       "      <td>56.843604</td>\n",
       "      <td>54.200339</td>\n",
       "      <td>31.870108</td>\n",
       "      <td>...</td>\n",
       "      <td>14.175053</td>\n",
       "      <td>15.254204</td>\n",
       "      <td>13.981483</td>\n",
       "      <td>19.441151</td>\n",
       "      <td>8.450210</td>\n",
       "      <td>6.732371</td>\n",
       "      <td>8.581195</td>\n",
       "      <td>2.383895</td>\n",
       "      <td>2.910776</td>\n",
       "      <td>2.701015</td>\n",
       "    </tr>\n",
       "    <tr>\n",
       "      <th>2020/Jun</th>\n",
       "      <td>299.060852</td>\n",
       "      <td>135.977572</td>\n",
       "      <td>92.901461</td>\n",
       "      <td>89.019479</td>\n",
       "      <td>77.604925</td>\n",
       "      <td>65.159301</td>\n",
       "      <td>68.145111</td>\n",
       "      <td>56.503748</td>\n",
       "      <td>42.146556</td>\n",
       "      <td>34.437633</td>\n",
       "      <td>...</td>\n",
       "      <td>15.375524</td>\n",
       "      <td>14.278872</td>\n",
       "      <td>14.585009</td>\n",
       "      <td>17.509335</td>\n",
       "      <td>6.705923</td>\n",
       "      <td>5.018138</td>\n",
       "      <td>9.193594</td>\n",
       "      <td>2.199921</td>\n",
       "      <td>3.216467</td>\n",
       "      <td>2.699492</td>\n",
       "    </tr>\n",
       "    <tr>\n",
       "      <th>2020/Jul</th>\n",
       "      <td>282.709570</td>\n",
       "      <td>120.467187</td>\n",
       "      <td>80.320853</td>\n",
       "      <td>78.929704</td>\n",
       "      <td>71.540227</td>\n",
       "      <td>58.898100</td>\n",
       "      <td>62.325444</td>\n",
       "      <td>51.764535</td>\n",
       "      <td>30.809221</td>\n",
       "      <td>33.499284</td>\n",
       "      <td>...</td>\n",
       "      <td>18.019214</td>\n",
       "      <td>13.087850</td>\n",
       "      <td>13.083152</td>\n",
       "      <td>13.358514</td>\n",
       "      <td>3.312766</td>\n",
       "      <td>4.489666</td>\n",
       "      <td>7.407388</td>\n",
       "      <td>1.163813</td>\n",
       "      <td>2.739498</td>\n",
       "      <td>2.155083</td>\n",
       "    </tr>\n",
       "  </tbody>\n",
       "</table>\n",
       "<p>150 rows × 27 columns</p>\n",
       "</div>"
      ],
      "text/plain": [
       "Unidade da Federação   São Paulo  Minas Gerais      Paraná  Rio Grande do Sul  \\\n",
       "2008/Fev              172.834915     70.301090   48.855046          45.897705   \n",
       "2008/Mar              170.481850     79.119006   55.611791          52.928696   \n",
       "2008/Abr              170.278286     79.046322   56.115136          51.972417   \n",
       "2008/Mai              172.402181     79.268070   55.574832          51.679351   \n",
       "2008/Jun              175.416596     79.608653   56.094755          53.759674   \n",
       "...                          ...           ...         ...                ...   \n",
       "2020/Mar              276.606289    147.078556  114.476998          84.651397   \n",
       "2020/Abr              251.696363    126.330650   96.727112          76.294597   \n",
       "2020/Mai              302.857661    136.867276  106.103738          86.076113   \n",
       "2020/Jun              299.060852    135.977572   92.901461          89.019479   \n",
       "2020/Jul              282.709570    120.467187   80.320853          78.929704   \n",
       "\n",
       "Unidade da Federação  Rio de Janeiro      Bahia  Pernambuco  Santa Catarina  \\\n",
       "2008/Fev                   44.122593  33.410124   26.222079       24.409573   \n",
       "2008/Mar                   42.892666  41.301703   30.716362       27.483480   \n",
       "2008/Abr                   45.295963  42.826994   30.589333       27.806641   \n",
       "2008/Mai                   43.951349  42.071294   31.409553       28.354280   \n",
       "2008/Jun                   44.102926  39.910042   28.947511       28.993293   \n",
       "...                              ...        ...         ...             ...   \n",
       "2020/Mar                   73.594498  70.340301   59.628674       56.709962   \n",
       "2020/Abr                   68.160773  59.109689   53.843729       51.179993   \n",
       "2020/Mai                   86.281033  61.756776   65.424719       56.843604   \n",
       "2020/Jun                   77.604925  65.159301   68.145111       56.503748   \n",
       "2020/Jul                   71.540227  58.898100   62.325444       51.764535   \n",
       "\n",
       "Unidade da Federação      Ceará      Goiás  ...      Piauí    Alagoas  \\\n",
       "2008/Fev              27.643305  18.149374  ...   9.711680   8.112220   \n",
       "2008/Mar              30.085370  20.992213  ...  10.428191   9.210506   \n",
       "2008/Abr              31.376221  21.049477  ...  10.227943  10.466692   \n",
       "2008/Mai              31.189905  19.162547  ...  10.562149   9.844096   \n",
       "2008/Jun              29.463965  20.332534  ...  10.465089  10.288668   \n",
       "...                         ...        ...  ...        ...        ...   \n",
       "2020/Mar              46.395357  34.558309  ...  15.318975  15.998722   \n",
       "2020/Abr              43.468817  27.499308  ...  11.878587  14.241361   \n",
       "2020/Mai              54.200339  31.870108  ...  14.175053  15.254204   \n",
       "2020/Jun              42.146556  34.437633  ...  15.375524  14.278872   \n",
       "2020/Jul              30.809221  33.499284  ...  18.019214  13.087850   \n",
       "\n",
       "Unidade da Federação  Mato Grosso   Amazonas   Sergipe  Tocantins  Rondônia  \\\n",
       "2008/Fev                 7.929895   7.934652  4.636851   5.051932  1.940793   \n",
       "2008/Mar                 9.416368   8.641517  5.017838   5.200152  1.955722   \n",
       "2008/Abr                 9.390588   8.531576  5.265951   5.343715  2.143354   \n",
       "2008/Mai                 9.378197   9.079902  5.367095   5.344488  2.280383   \n",
       "2008/Jun                 9.450301   8.646296  4.981036   5.398413  2.624543   \n",
       "...                           ...        ...       ...        ...       ...   \n",
       "2020/Mar                14.444208  14.773739  9.193249   7.025821  7.174312   \n",
       "2020/Abr                11.943714  16.330914  8.395907   6.204453  7.423679   \n",
       "2020/Mai                13.981483  19.441151  8.450210   6.732371  8.581195   \n",
       "2020/Jun                14.585009  17.509335  6.705923   5.018138  9.193594   \n",
       "2020/Jul                13.083152  13.358514  3.312766   4.489666  7.407388   \n",
       "\n",
       "Unidade da Federação      Acre   Roraima     Amapá  \n",
       "2008/Fev              1.743979  0.771688  1.275064  \n",
       "2008/Mar              2.057439  0.876091  1.177746  \n",
       "2008/Abr              2.057830  0.896953  1.396372  \n",
       "2008/Mai              2.226578  1.027289  1.411521  \n",
       "2008/Jun              2.112577  0.938294  1.420892  \n",
       "...                        ...       ...       ...  \n",
       "2020/Mar              2.859102  2.813954  2.286241  \n",
       "2020/Abr              2.472063  2.304961  1.774558  \n",
       "2020/Mai              2.383895  2.910776  2.701015  \n",
       "2020/Jun              2.199921  3.216467  2.699492  \n",
       "2020/Jul              1.163813  2.739498  2.155083  \n",
       "\n",
       "[150 rows x 27 columns]"
      ]
     },
     "execution_count": 38,
     "metadata": {},
     "output_type": "execute_result"
    }
   ],
   "source": [
    "mensal = ordenado_por_total.T\n",
    "mensal"
   ]
  },
  {
   "cell_type": "code",
   "execution_count": 50,
   "metadata": {},
   "outputs": [
    {
     "data": {
      "image/png": "[encoded data removed]",
      "text/plain": [
       "<Figure size 720x432 with 1 Axes>"
      ]
     },
     "metadata": {},
     "output_type": "display_data"
    }
   ],
   "source": [
    "plt.figure(figsize=(10,6))\n",
    "sns.set_style(\"darkgrid\")\n",
    "ax = sns.lineplot(data=mensal, x=mensal.index, y=\"Paraná\")\n",
    "plt.xticks(rotation=30)\n",
    "plt.ylim(0,150)\n",
    "plt.title(\"Gastos totais Paraná\", fontsize=16)\n",
    "ax.yaxis.set_major_formatter(ticker.StrMethodFormatter(\"R$ {x:,.2f} Milhões\"))\n",
    "ax.xaxis.set_major_locator(ticker.IndexLocator(base=12, offset=11))\n",
    "plt.grid(True, linestyle=\"--\")\n",
    "plt.show()"
   ]
  },
  {
   "cell_type": "markdown",
   "metadata": {
    "id": "1DyvCRylXRjL"
   },
   "source": [
    " [<- Voltar para o repositório](https://github.com/aureliowozhiak/Bootcamp-Data-Science-Aplicada)"
   ]
  },
  {
   "cell_type": "code",
   "execution_count": null,
   "metadata": {},
   "outputs": [],
   "source": []
  }
 ],
 "metadata": {
  "colab": {
   "collapsed_sections": [],
   "name": "Bootcamp Data Science Hospitalar - 5",
   "provenance": []
  },
  "kernelspec": {
   "display_name": "Python 3",
   "language": "python",
   "name": "python3"
  },
  "language_info": {
   "codemirror_mode": {
    "name": "ipython",
    "version": 3
   },
   "file_extension": ".py",
   "mimetype": "text/x-python",
   "name": "python",
   "nbconvert_exporter": "python",
   "pygments_lexer": "ipython3",
   "version": "3.8.5"
  }
 },
 "nbformat": 4,
 "nbformat_minor": 4
}

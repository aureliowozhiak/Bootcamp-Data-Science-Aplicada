{
 "cells": [
  {
   "cell_type": "markdown",
   "metadata": {
    "id": "wy_ncUgeYjfh"
   },
   "source": [
    "# 02.2 - Proporcionalidades e Searborn\n",
    "## Tratamento, exploração e visualização de dados Tratamento, exploração e visualização de dados\n",
    "\n",
    "Dataset: \n",
    "\n",
    "http://tabnet.datasus.gov.br/cgi/deftohtm.exe?sih/cnv/qiuf.def\n",
    "Filtros aplicados:\n",
    " - Linha: Unidade da Federação\n",
    " - Coluna: Ano/Mês atendimento\n",
    " - Conteúdo: Valor total\n",
    " - Períodos disponíveis: Jan/2008 até Mar/2021\n",
    " \n",
    " <br/>\n",
    " \n",
    "https://www.ibge.gov.br/estatisticas/sociais/populacao/9103-estimativas-de-populacao.html?=&t=resultados\n",
    "Estimativas de população publicadas no DOU\n",
    " \n",
    "- Tabela de estimativas populacionais para os municípios e para as Unidades da Federação brasileiros em 01.07.2020:\n",
    "\n",
    "\"Atendendo ao dispositivo legal, Lei nº 8443, de 16 de julho de 1992, no artigo 102, o IBGE fez publicar no Diário Oficial da União, em 27 de agosto de 2020, as estimativas de população para os municípios e para as Unidades da Federação brasileiros, com data de referência em 1º de julho de 2020. A Lei complementar nº 143, de 17 de julho de 2013, alterou o art. 102 da Lei nº 8443, revogando os parágrafos 1º e 2º, que estabelecia o prazo de 20 dias após a publicação das estimativas no Diário Oficial da União para apresentação de reclamações ao IBGE.\"\n",
    "\n",
    "\n",
    "<br/>\n",
    "\n",
    "https://pt.wikipedia.org/wiki/Lista_de_unidades_federativas_do_Brasil_por_popula%C3%A7%C3%A3o\n",
    "\n",
    "Dados da tabela disponibilizada pelo wikipédia\n",
    " \n",
    " [<- Voltar para o repositório](https://github.com/aureliowozhiak/Bootcamp-Data-Science-Aplicada)"
   ]
  },
  {
   "cell_type": "code",
   "execution_count": 1,
   "metadata": {
    "id": "87K9ISVVY1bn"
   },
   "outputs": [],
   "source": [
    "import pandas as pd"
   ]
  },
  {
   "cell_type": "code",
   "execution_count": 2,
   "metadata": {
    "colab": {
     "base_uri": "https://localhost:8080/",
     "height": 372
    },
    "id": "aUnyypSZZNII",
    "outputId": "7a7bcd66-3214-4e1e-c12b-1a6348ada78c"
   },
   "outputs": [
    {
     "data": {
      "text/html": [
       "<div>\n",
       "<style scoped>\n",
       "    .dataframe tbody tr th:only-of-type {\n",
       "        vertical-align: middle;\n",
       "    }\n",
       "\n",
       "    .dataframe tbody tr th {\n",
       "        vertical-align: top;\n",
       "    }\n",
       "\n",
       "    .dataframe thead th {\n",
       "        text-align: right;\n",
       "    }\n",
       "</style>\n",
       "<table border=\"1\" class=\"dataframe\">\n",
       "  <thead>\n",
       "    <tr style=\"text-align: right;\">\n",
       "      <th></th>\n",
       "      <th>Unidade da Federação</th>\n",
       "      <th>1992/Mar</th>\n",
       "      <th>1992/Abr</th>\n",
       "      <th>1993/Mai</th>\n",
       "      <th>1993/Dez</th>\n",
       "      <th>1994/Jan</th>\n",
       "      <th>1994/Fev</th>\n",
       "      <th>1994/Mai</th>\n",
       "      <th>1994/Ago</th>\n",
       "      <th>1994/Nov</th>\n",
       "      <th>...</th>\n",
       "      <th>2019/Dez</th>\n",
       "      <th>2020/Jan</th>\n",
       "      <th>2020/Fev</th>\n",
       "      <th>2020/Mar</th>\n",
       "      <th>2020/Abr</th>\n",
       "      <th>2020/Mai</th>\n",
       "      <th>2020/Jun</th>\n",
       "      <th>2020/Jul</th>\n",
       "      <th>2020/Ago</th>\n",
       "      <th>Total</th>\n",
       "    </tr>\n",
       "  </thead>\n",
       "  <tbody>\n",
       "    <tr>\n",
       "      <th>0</th>\n",
       "      <td>11 Rondônia</td>\n",
       "      <td>-</td>\n",
       "      <td>-</td>\n",
       "      <td>-</td>\n",
       "      <td>-</td>\n",
       "      <td>-</td>\n",
       "      <td>-</td>\n",
       "      <td>-</td>\n",
       "      <td>-</td>\n",
       "      <td>-</td>\n",
       "      <td>...</td>\n",
       "      <td>8660753.05</td>\n",
       "      <td>8326416.32</td>\n",
       "      <td>8413784.42</td>\n",
       "      <td>7174312.31</td>\n",
       "      <td>7423678.64</td>\n",
       "      <td>8581195.13</td>\n",
       "      <td>9193593.76</td>\n",
       "      <td>7407388.24</td>\n",
       "      <td>3556381.57</td>\n",
       "      <td>9.291297e+08</td>\n",
       "    </tr>\n",
       "    <tr>\n",
       "      <th>1</th>\n",
       "      <td>12 Acre</td>\n",
       "      <td>-</td>\n",
       "      <td>-</td>\n",
       "      <td>-</td>\n",
       "      <td>-</td>\n",
       "      <td>-</td>\n",
       "      <td>-</td>\n",
       "      <td>-</td>\n",
       "      <td>-</td>\n",
       "      <td>-</td>\n",
       "      <td>...</td>\n",
       "      <td>2959569.09</td>\n",
       "      <td>3261123.88</td>\n",
       "      <td>2981264.22</td>\n",
       "      <td>2859102.06</td>\n",
       "      <td>2472063.08</td>\n",
       "      <td>2383895.48</td>\n",
       "      <td>2199920.70</td>\n",
       "      <td>1163813.08</td>\n",
       "      <td>-</td>\n",
       "      <td>4.206680e+08</td>\n",
       "    </tr>\n",
       "    <tr>\n",
       "      <th>2</th>\n",
       "      <td>13 Amazonas</td>\n",
       "      <td>-</td>\n",
       "      <td>-</td>\n",
       "      <td>-</td>\n",
       "      <td>-</td>\n",
       "      <td>-</td>\n",
       "      <td>-</td>\n",
       "      <td>-</td>\n",
       "      <td>-</td>\n",
       "      <td>-</td>\n",
       "      <td>...</td>\n",
       "      <td>14923380.22</td>\n",
       "      <td>15939561.23</td>\n",
       "      <td>15138110.70</td>\n",
       "      <td>14773739.41</td>\n",
       "      <td>16330913.81</td>\n",
       "      <td>19441150.53</td>\n",
       "      <td>17509334.66</td>\n",
       "      <td>13358514.02</td>\n",
       "      <td>4726485.73</td>\n",
       "      <td>1.771655e+09</td>\n",
       "    </tr>\n",
       "    <tr>\n",
       "      <th>3</th>\n",
       "      <td>14 Roraima</td>\n",
       "      <td>-</td>\n",
       "      <td>-</td>\n",
       "      <td>-</td>\n",
       "      <td>-</td>\n",
       "      <td>-</td>\n",
       "      <td>-</td>\n",
       "      <td>-</td>\n",
       "      <td>-</td>\n",
       "      <td>-</td>\n",
       "      <td>...</td>\n",
       "      <td>2889969.87</td>\n",
       "      <td>3084561.08</td>\n",
       "      <td>2967159.04</td>\n",
       "      <td>2813954.05</td>\n",
       "      <td>2304961.42</td>\n",
       "      <td>2910776.44</td>\n",
       "      <td>3216466.51</td>\n",
       "      <td>2739498.41</td>\n",
       "      <td>1524478.04</td>\n",
       "      <td>3.050109e+08</td>\n",
       "    </tr>\n",
       "    <tr>\n",
       "      <th>4</th>\n",
       "      <td>15 Pará</td>\n",
       "      <td>-</td>\n",
       "      <td>-</td>\n",
       "      <td>-</td>\n",
       "      <td>-</td>\n",
       "      <td>-</td>\n",
       "      <td>-</td>\n",
       "      <td>-</td>\n",
       "      <td>-</td>\n",
       "      <td>-</td>\n",
       "      <td>...</td>\n",
       "      <td>35222625.80</td>\n",
       "      <td>37009819.17</td>\n",
       "      <td>34635702.52</td>\n",
       "      <td>34749098.46</td>\n",
       "      <td>28714969.96</td>\n",
       "      <td>41248502.78</td>\n",
       "      <td>35396030.78</td>\n",
       "      <td>27618727.51</td>\n",
       "      <td>11559714.54</td>\n",
       "      <td>4.437116e+09</td>\n",
       "    </tr>\n",
       "  </tbody>\n",
       "</table>\n",
       "<p>5 rows × 280 columns</p>\n",
       "</div>"
      ],
      "text/plain": [
       "  Unidade da Federação 1992/Mar 1992/Abr 1993/Mai 1993/Dez 1994/Jan 1994/Fev  \\\n",
       "0          11 Rondônia        -        -        -        -        -        -   \n",
       "1              12 Acre        -        -        -        -        -        -   \n",
       "2          13 Amazonas        -        -        -        -        -        -   \n",
       "3           14 Roraima        -        -        -        -        -        -   \n",
       "4              15 Pará        -        -        -        -        -        -   \n",
       "\n",
       "  1994/Mai 1994/Ago 1994/Nov  ...     2019/Dez     2020/Jan     2020/Fev  \\\n",
       "0        -        -        -  ...   8660753.05   8326416.32   8413784.42   \n",
       "1        -        -        -  ...   2959569.09   3261123.88   2981264.22   \n",
       "2        -        -        -  ...  14923380.22  15939561.23  15138110.70   \n",
       "3        -        -        -  ...   2889969.87   3084561.08   2967159.04   \n",
       "4        -        -        -  ...  35222625.80  37009819.17  34635702.52   \n",
       "\n",
       "      2020/Mar     2020/Abr     2020/Mai     2020/Jun     2020/Jul  \\\n",
       "0   7174312.31   7423678.64   8581195.13   9193593.76   7407388.24   \n",
       "1   2859102.06   2472063.08   2383895.48   2199920.70   1163813.08   \n",
       "2  14773739.41  16330913.81  19441150.53  17509334.66  13358514.02   \n",
       "3   2813954.05   2304961.42   2910776.44   3216466.51   2739498.41   \n",
       "4  34749098.46  28714969.96  41248502.78  35396030.78  27618727.51   \n",
       "\n",
       "      2020/Ago         Total  \n",
       "0   3556381.57  9.291297e+08  \n",
       "1            -  4.206680e+08  \n",
       "2   4726485.73  1.771655e+09  \n",
       "3   1524478.04  3.050109e+08  \n",
       "4  11559714.54  4.437116e+09  \n",
       "\n",
       "[5 rows x 280 columns]"
      ]
     },
     "execution_count": 2,
     "metadata": {},
     "output_type": "execute_result"
    }
   ],
   "source": [
    "dados = pd.read_csv(\"https://raw.githubusercontent.com/alura-cursos/agendamento-hospitalar/main/dados/A160324189_28_143_208.csv\",\n",
    "                    encoding=\"ISO-8859-1\", \n",
    "                    skiprows = 3, sep=\";\", skipfooter=12,\n",
    "                    thousands=\".\", decimal=\",\", engine=\"python\")\n",
    "dados.head()"
   ]
  },
  {
   "cell_type": "code",
   "execution_count": 3,
   "metadata": {
    "colab": {
     "base_uri": "https://localhost:8080/",
     "height": 512
    },
    "id": "aJ9A3GCteSQg",
    "outputId": "f98bdc4f-b7f0-40e6-9a10-26c5df41d337"
   },
   "outputs": [],
   "source": [
    "import matplotlib.pyplot as plt\n",
    "import matplotlib.ticker as ticker"
   ]
  },
  {
   "cell_type": "code",
   "execution_count": 4,
   "metadata": {
    "colab": {
     "base_uri": "https://localhost:8080/"
    },
    "id": "XgXSf2cdkFnx",
    "outputId": "ada8976a-a95c-4f12-c5b4-643fe007b60e"
   },
   "outputs": [],
   "source": [
    "colunas_usaveis = dados.mean().index.tolist()\n",
    "colunas_usaveis.insert(0, \"Unidade da Federação\")"
   ]
  },
  {
   "cell_type": "code",
   "execution_count": 5,
   "metadata": {
    "colab": {
     "base_uri": "https://localhost:8080/",
     "height": 338
    },
    "id": "AHXrWCP5kS-W",
    "outputId": "b0bae6c2-7d22-49ee-eecb-f3165ad07297"
   },
   "outputs": [],
   "source": [
    "usaveis = dados[colunas_usaveis]"
   ]
  },
  {
   "cell_type": "code",
   "execution_count": 6,
   "metadata": {
    "colab": {
     "base_uri": "https://localhost:8080/",
     "height": 1000
    },
    "id": "u_CRNwbfkZO-",
    "outputId": "2bb05088-93f8-477e-e2e8-841610278f14"
   },
   "outputs": [],
   "source": [
    "usaveis = usaveis.set_index(\"Unidade da Federação\")"
   ]
  },
  {
   "cell_type": "code",
   "execution_count": 7,
   "metadata": {
    "colab": {
     "base_uri": "https://localhost:8080/",
     "height": 368
    },
    "id": "60ncKDAFlwMg",
    "outputId": "16d1ce71-c3dd-4f99-f6a4-3617c93f91c2"
   },
   "outputs": [],
   "source": [
    "usaveis = usaveis.drop(\"Total\", axis=1)"
   ]
  },
  {
   "cell_type": "code",
   "execution_count": 8,
   "metadata": {
    "colab": {
     "base_uri": "https://localhost:8080/",
     "height": 368
    },
    "id": "HSMLahftvLLl",
    "outputId": "1aac2788-eba0-492f-a1ee-5b2568c10b0e"
   },
   "outputs": [],
   "source": [
    "usaveis[\"Total\"] = usaveis.sum(axis=1) # [0,1,2] [\"SP\"]"
   ]
  },
  {
   "cell_type": "code",
   "execution_count": 9,
   "metadata": {
    "colab": {
     "base_uri": "https://localhost:8080/",
     "height": 368
    },
    "id": "MIWAh5QXvzT9",
    "outputId": "bb3530e5-233c-4390-8245-9529a87de552"
   },
   "outputs": [],
   "source": [
    "ordenado_por_total = usaveis.sort_values(\"Total\", ascending=False)\n",
    "ordenado_por_total.index = ordenado_por_total.index.str[3:]\n",
    "ordenado_por_total = ordenado_por_total.drop(\"Total\", axis=1)"
   ]
  },
  {
   "cell_type": "markdown",
   "metadata": {
    "id": "ftqarypJxxdw"
   },
   "source": [
    "#Desafio: adicione seu estado aos 5 estados existentes e plote"
   ]
  },
  {
   "cell_type": "code",
   "execution_count": 10,
   "metadata": {
    "id": "kibPpNcexc1w"
   },
   "outputs": [],
   "source": [
    "colunas_interessadas = ordenado_por_total.columns[6:]\n",
    "ordenado_por_total = ordenado_por_total[colunas_interessadas]"
   ]
  },
  {
   "cell_type": "code",
   "execution_count": 11,
   "metadata": {
    "colab": {
     "base_uri": "https://localhost:8080/",
     "height": 391
    },
    "id": "PmOA6aty1ez4",
    "outputId": "c67828b8-f823-45f8-99d0-535b5bf538d7"
   },
   "outputs": [],
   "source": [
    "ordenado_por_total = ordenado_por_total / 1000000"
   ]
  },
  {
   "cell_type": "code",
   "execution_count": 12,
   "metadata": {
    "colab": {
     "base_uri": "https://localhost:8080/",
     "height": 391
    },
    "id": "O6fwQNvK0iBf",
    "outputId": "15f8f47c-bd18-442b-c6a6-97d00bb3932e"
   },
   "outputs": [],
   "source": [
    "meses_filtrados = ordenado_por_total.columns[47:150]"
   ]
  },
  {
   "cell_type": "code",
   "execution_count": 13,
   "metadata": {
    "colab": {
     "base_uri": "https://localhost:8080/",
     "height": 35
    },
    "id": "4CDEFSyz5Pm1",
    "outputId": "669d4f96-af97-432d-ed13-f0c338de1f84"
   },
   "outputs": [],
   "source": [
    "mes_mais_recente = ordenado_por_total.columns[-1]"
   ]
  },
  {
   "cell_type": "code",
   "execution_count": 14,
   "metadata": {
    "colab": {
     "base_uri": "https://localhost:8080/"
    },
    "id": "WLb58UgB67To",
    "outputId": "2b23fcea-7c14-4f8c-f6a8-27ed483a9739"
   },
   "outputs": [],
   "source": [
    "gastos_do_mais_recente = ordenado_por_total[mes_mais_recente]"
   ]
  },
  {
   "cell_type": "code",
   "execution_count": 15,
   "metadata": {
    "colab": {
     "base_uri": "https://localhost:8080/",
     "height": 388
    },
    "id": "7sj2L3i--oCO",
    "outputId": "bef9a1f1-3b58-4947-fc70-30b1b37573c9"
   },
   "outputs": [],
   "source": [
    "gastos_do_mais_recente = gastos_do_mais_recente.sort_values(ascending=False)"
   ]
  },
  {
   "cell_type": "code",
   "execution_count": 16,
   "metadata": {
    "colab": {
     "base_uri": "https://localhost:8080/",
     "height": 388
    },
    "id": "j9F0AHxEB3AD",
    "outputId": "c9144783-b5c5-4790-9b5c-3614fe006d39"
   },
   "outputs": [],
   "source": [
    "gastos_proporcionais = gastos_do_mais_recente / gastos_do_mais_recente.sum()"
   ]
  },
  {
   "cell_type": "code",
   "execution_count": 17,
   "metadata": {
    "colab": {
     "base_uri": "https://localhost:8080/",
     "height": 237
    },
    "id": "nhOqlT8MB43R",
    "outputId": "d1c4c142-e178-44d0-b005-be4927274c55"
   },
   "outputs": [
    {
     "data": {
      "text/html": [
       "<div>\n",
       "<style scoped>\n",
       "    .dataframe tbody tr th:only-of-type {\n",
       "        vertical-align: middle;\n",
       "    }\n",
       "\n",
       "    .dataframe tbody tr th {\n",
       "        vertical-align: top;\n",
       "    }\n",
       "\n",
       "    .dataframe thead th {\n",
       "        text-align: right;\n",
       "    }\n",
       "</style>\n",
       "<table border=\"1\" class=\"dataframe\">\n",
       "  <thead>\n",
       "    <tr style=\"text-align: right;\">\n",
       "      <th></th>\n",
       "      <th>ESTIMATIVAS DA POPULAÇÃO RESIDENTE NO BRASIL E UNIDADES DA FEDERAÇÃO COM DATA DE REFERÊNCIA EM 1º DE JULHO DE 2020</th>\n",
       "      <th>Unnamed: 1</th>\n",
       "      <th>Unnamed: 2</th>\n",
       "    </tr>\n",
       "  </thead>\n",
       "  <tbody>\n",
       "    <tr>\n",
       "      <th>0</th>\n",
       "      <td>BRASIL E UNIDADES DA FEDERAÇÃO</td>\n",
       "      <td>NaN</td>\n",
       "      <td>POPULAÇÃO ESTIMADA</td>\n",
       "    </tr>\n",
       "    <tr>\n",
       "      <th>1</th>\n",
       "      <td>Brasil</td>\n",
       "      <td>NaN</td>\n",
       "      <td>211755692</td>\n",
       "    </tr>\n",
       "    <tr>\n",
       "      <th>2</th>\n",
       "      <td>Região Norte</td>\n",
       "      <td>NaN</td>\n",
       "      <td>18672591</td>\n",
       "    </tr>\n",
       "    <tr>\n",
       "      <th>3</th>\n",
       "      <td>Rondônia</td>\n",
       "      <td>NaN</td>\n",
       "      <td>1796460</td>\n",
       "    </tr>\n",
       "    <tr>\n",
       "      <th>4</th>\n",
       "      <td>Acre</td>\n",
       "      <td>NaN</td>\n",
       "      <td>894470</td>\n",
       "    </tr>\n",
       "  </tbody>\n",
       "</table>\n",
       "</div>"
      ],
      "text/plain": [
       "  ESTIMATIVAS DA POPULAÇÃO RESIDENTE NO BRASIL E UNIDADES DA FEDERAÇÃO COM DATA DE REFERÊNCIA EM 1º DE JULHO DE 2020  \\\n",
       "0                     BRASIL E UNIDADES DA FEDERAÇÃO                                                                   \n",
       "1                                             Brasil                                                                   \n",
       "2                                       Região Norte                                                                   \n",
       "3                                           Rondônia                                                                   \n",
       "4                                               Acre                                                                   \n",
       "\n",
       "   Unnamed: 1          Unnamed: 2  \n",
       "0         NaN  POPULAÇÃO ESTIMADA  \n",
       "1         NaN           211755692  \n",
       "2         NaN            18672591  \n",
       "3         NaN             1796460  \n",
       "4         NaN              894470  "
      ]
     },
     "execution_count": 17,
     "metadata": {},
     "output_type": "execute_result"
    }
   ],
   "source": [
    "ibge_estimativa = pd.read_excel(\"https://github.com/alura-cursos/agendamento-hospitalar/raw/main/dados/estimativa_dou_2020.xls\")\n",
    "ibge_estimativa.head()"
   ]
  },
  {
   "cell_type": "code",
   "execution_count": 18,
   "metadata": {
    "id": "ywsmdh4lDcO8"
   },
   "outputs": [],
   "source": [
    "dados_da_populacao = \"\"\"Posição\tUnidade federativa\tPopulação\t% da pop. total\tPaís comparável\n",
    "(habitantes)\n",
    "\n",
    "1\t São Paulo\t46 289 333\t21,9%\tFlag of Spain.svg Espanha (46 439 864)\n",
    "2\t Minas Gerais\t21 292 666\t10,1%\t Sri Lanka (20 675 000)\n",
    "3\t Rio de Janeiro\t17 366 189\t8,2%\t Países Baixos (16 922 900)\n",
    "4\tBahia Bahia\t14 930 634\t7,1%\t Chade (14 037 000)\n",
    "5\t Paraná\t11 516 840\t5,4%\t Bolívia (11 410 651)\n",
    "6\t Rio Grande do Sul\t11 422 973\t5,4%\t Bélgica (11 250 659)\n",
    "7\t Pernambuco\t9 616 621\t4,5%\t Bielorrússia (9 485 300)\n",
    "8\t Ceará\t9 187 103\t4,3%\t Emirados Árabes Unidos (9 157 000)\n",
    "9\tPará Pará\t8 690 745\t4,1%\t Áustria (8 602 112)\n",
    "10\t Santa Catarina\t7 252 502\t3,4%\t Sérvia (7 114 393)\n",
    "11\t Maranhão\t7 114 598\t3,4%\t Paraguai (7 003 406)\n",
    "12\t Goiás\t7 113 540\t3,4%\t Paraguai (7 003 406)\n",
    "13\t Amazonas\t4 207 714\t2,0%\t Líbano (4 168 000)\n",
    "14\t Espírito Santo\t4 064 052\t1,9%\t Líbano (4 168 000)\n",
    "15\t Paraíba\t4 039 277\t1,9%\t Líbano (4 168 000)\n",
    "16\t Rio Grande do Norte\t3 534 165\t1,7%\t Uruguai (3 415 866)\n",
    "17\t Mato Grosso\t3 526 220\t1,7%\t Uruguai (3 415 866)\n",
    "18\t Alagoas\t3 351 543\t1,6%\t Uruguai (3 415 866)\n",
    "19\t Piauí\t3 281 480\t1,6%\t Kuwait (3 268 431)\n",
    "20\t Distrito Federal\t3 055 149\t1,4%\t Lituânia (2 900 787)\n",
    "21\t Mato Grosso do Sul\t2 809 394\t1,3%\t Jamaica (2 717 991)\n",
    "22\t Sergipe\t2 318 822\t1,1%\t Namíbia (2 280 700)\n",
    "23\t Rondônia\t1 796 460\t0,8%\t Gabão (1 725 000)\n",
    "24\t Tocantins\t1 590 248\t0,7%\t Bahrein (1 359 800)\n",
    "25\t Acre\t894 470\t0,4%\t Fiji (859 178)\n",
    "26\t Amapá\t861 773\t0,4%\t Fiji (859 178)\n",
    "27\t Roraima\t631 181\t0,3%\t Luxemburgo (562 958)\"\"\"\n",
    "\n",
    "# fonte: https://pt.wikipedia.org/wiki/Lista_de_unidades_federativas_do_Brasil_por_popula%C3%A7%C3%A3o#cite_note-IBGE_POP-1"
   ]
  },
  {
   "cell_type": "markdown",
   "metadata": {
    "id": "YPfvQ7YVLyN4"
   },
   "source": [
    "# Estruturar uma função para a leitura e limpeza dessa tabela, devolvendo a tabela populacao e a tabela unida"
   ]
  },
  {
   "cell_type": "code",
   "execution_count": 19,
   "metadata": {
    "colab": {
     "base_uri": "https://localhost:8080/",
     "height": 388
    },
    "id": "eifgd0t5EHN3",
    "outputId": "a379a102-1c40-4515-ef28-d0f0580ac14b"
   },
   "outputs": [],
   "source": [
    "from io import StringIO\n",
    "\n",
    "dados_da_populacao_io = StringIO(dados_da_populacao)\n",
    "\n",
    "populacao = pd.read_csv(dados_da_populacao_io, sep=\"\\t\")\n",
    "populacao = populacao.dropna()\n",
    "populacao[\"populacao\"] = populacao[\"População\"].str.replace(\" \", \"\").astype(int)\n",
    "populacao[\"uf\"] = populacao[\"Unidade federativa\"]\n",
    "populacao = populacao[[\"populacao\", \"uf\"]].set_index(\"uf\")"
   ]
  },
  {
   "cell_type": "code",
   "execution_count": 20,
   "metadata": {
    "colab": {
     "base_uri": "https://localhost:8080/",
     "height": 234
    },
    "id": "BkP0DrQ4ICLa",
    "outputId": "902b21d5-415e-4295-9818-9a1d10473ae2"
   },
   "outputs": [],
   "source": [
    "populacao.index = populacao.index.str.strip()"
   ]
  },
  {
   "cell_type": "code",
   "execution_count": 21,
   "metadata": {
    "colab": {
     "base_uri": "https://localhost:8080/",
     "height": 35
    },
    "id": "w2qo51s7ISjy",
    "outputId": "b360199a-f908-4a5e-d19d-822780bf6061"
   },
   "outputs": [
    {
     "data": {
      "text/plain": [
       "'São Paulo'"
      ]
     },
     "execution_count": 21,
     "metadata": {},
     "output_type": "execute_result"
    }
   ],
   "source": [
    "populacao.index[0].strip()"
   ]
  },
  {
   "cell_type": "code",
   "execution_count": 22,
   "metadata": {
    "colab": {
     "base_uri": "https://localhost:8080/"
    },
    "id": "mkpCGx9oJAIv",
    "outputId": "c784420a-0e30-4a96-eedd-45d613dc3df4"
   },
   "outputs": [
    {
     "data": {
      "text/plain": [
       "Index(['São Paulo', 'Minas Gerais', 'Rio de Janeiro', 'Bahia', 'Paraná',\n",
       "       'Rio Grande do Sul', 'Pernambuco', 'Ceará', 'Pará', 'Santa Catarina',\n",
       "       'Maranhão', 'Goiás', 'Amazonas', 'Espírito Santo', 'Paraíba',\n",
       "       'Rio Grande do Norte', 'Mato Grosso', 'Alagoas', 'Piauí',\n",
       "       'Distrito Federal', 'Mato Grosso do Sul', 'Sergipe', 'Rondônia',\n",
       "       'Tocantins', 'Acre', 'Amapá', 'Roraima'],\n",
       "      dtype='object', name='uf')"
      ]
     },
     "execution_count": 22,
     "metadata": {},
     "output_type": "execute_result"
    }
   ],
   "source": [
    "for estado in gastos_do_mais_recente.index:\n",
    "    # print(f\"{estado} {estado} => {estado}\")\n",
    "    populacao.index = populacao.index.str.replace(f\"{estado} {estado}\", estado)\n",
    "populacao.index"
   ]
  },
  {
   "cell_type": "code",
   "execution_count": 23,
   "metadata": {
    "colab": {
     "base_uri": "https://localhost:8080/",
     "height": 234
    },
    "id": "99-WcoONIGxK",
    "outputId": "3c933e2e-dce4-4d49-afa2-f81aa7618cd8"
   },
   "outputs": [],
   "source": [
    "gastos_e_populacao_recente = populacao.join(gastos_do_mais_recente)"
   ]
  },
  {
   "cell_type": "code",
   "execution_count": 24,
   "metadata": {
    "id": "RWEZRruuSr76"
   },
   "outputs": [],
   "source": [
    "def insere_gastos_e_gasto_por_habitante_para(todos_os_gastos: pd.DataFrame, dados: pd.DataFrame, mes: str):\n",
    "    gastos_do_mes = todos_os_gastos[mes]\n",
    "    dados[f\"gastos_{mes}\"] = gastos_do_mes * 1000000\n",
    "    dados[f\"gasto_por_habitante_{mes}\"] = dados[f\"gastos_{mes}\"] / dados[\"populacao\"]"
   ]
  },
  {
   "cell_type": "code",
   "execution_count": 25,
   "metadata": {
    "colab": {
     "base_uri": "https://localhost:8080/",
     "height": 308
    },
    "id": "R9nxvwxHKwW6",
    "outputId": "94bc3589-16eb-46e2-dcc2-f23b143546b2"
   },
   "outputs": [
    {
     "data": {
      "text/plain": [
       "<AxesSubplot:xlabel='uf'>"
      ]
     },
     "execution_count": 25,
     "metadata": {},
     "output_type": "execute_result"
    },
    {
     "data": {
      "image/png": "[encoded data removed]",
      "text/plain": [
       "<Figure size 432x288 with 1 Axes>"
      ]
     },
     "metadata": {
      "needs_background": "light"
     },
     "output_type": "display_data"
    }
   ],
   "source": [
    "# horripilante (data visualization)\n",
    "insere_gastos_e_gasto_por_habitante_para(ordenado_por_total, gastos_e_populacao_recente, \"2020/Jul\")\n",
    "gastos_e_populacao_recente[[\"gastos_2020/Jul\", \"populacao\"]].plot()"
   ]
  },
  {
   "cell_type": "code",
   "execution_count": 26,
   "metadata": {
    "colab": {
     "base_uri": "https://localhost:8080/",
     "height": 234
    },
    "id": "7xjo0bSfUHPI",
    "outputId": "0f38a24e-47ea-4cf7-97d9-8d669843f853"
   },
   "outputs": [
    {
     "data": {
      "text/html": [
       "<div>\n",
       "<style scoped>\n",
       "    .dataframe tbody tr th:only-of-type {\n",
       "        vertical-align: middle;\n",
       "    }\n",
       "\n",
       "    .dataframe tbody tr th {\n",
       "        vertical-align: top;\n",
       "    }\n",
       "\n",
       "    .dataframe thead th {\n",
       "        text-align: right;\n",
       "    }\n",
       "</style>\n",
       "<table border=\"1\" class=\"dataframe\">\n",
       "  <thead>\n",
       "    <tr style=\"text-align: right;\">\n",
       "      <th></th>\n",
       "      <th>populacao</th>\n",
       "      <th>2020/Jul</th>\n",
       "      <th>gastos_2020/Jul</th>\n",
       "      <th>gasto_por_habitante_2020/Jul</th>\n",
       "    </tr>\n",
       "    <tr>\n",
       "      <th>uf</th>\n",
       "      <th></th>\n",
       "      <th></th>\n",
       "      <th></th>\n",
       "      <th></th>\n",
       "    </tr>\n",
       "  </thead>\n",
       "  <tbody>\n",
       "    <tr>\n",
       "      <th>São Paulo</th>\n",
       "      <td>46289333</td>\n",
       "      <td>282.709570</td>\n",
       "      <td>2.827096e+08</td>\n",
       "      <td>6.107445</td>\n",
       "    </tr>\n",
       "    <tr>\n",
       "      <th>Minas Gerais</th>\n",
       "      <td>21292666</td>\n",
       "      <td>120.467187</td>\n",
       "      <td>1.204672e+08</td>\n",
       "      <td>5.657685</td>\n",
       "    </tr>\n",
       "    <tr>\n",
       "      <th>Rio de Janeiro</th>\n",
       "      <td>17366189</td>\n",
       "      <td>71.540227</td>\n",
       "      <td>7.154023e+07</td>\n",
       "      <td>4.119512</td>\n",
       "    </tr>\n",
       "    <tr>\n",
       "      <th>Bahia</th>\n",
       "      <td>14930634</td>\n",
       "      <td>58.898100</td>\n",
       "      <td>5.889810e+07</td>\n",
       "      <td>3.944782</td>\n",
       "    </tr>\n",
       "    <tr>\n",
       "      <th>Paraná</th>\n",
       "      <td>11516840</td>\n",
       "      <td>80.320853</td>\n",
       "      <td>8.032085e+07</td>\n",
       "      <td>6.974209</td>\n",
       "    </tr>\n",
       "  </tbody>\n",
       "</table>\n",
       "</div>"
      ],
      "text/plain": [
       "                populacao    2020/Jul  gastos_2020/Jul  \\\n",
       "uf                                                       \n",
       "São Paulo        46289333  282.709570     2.827096e+08   \n",
       "Minas Gerais     21292666  120.467187     1.204672e+08   \n",
       "Rio de Janeiro   17366189   71.540227     7.154023e+07   \n",
       "Bahia            14930634   58.898100     5.889810e+07   \n",
       "Paraná           11516840   80.320853     8.032085e+07   \n",
       "\n",
       "                gasto_por_habitante_2020/Jul  \n",
       "uf                                            \n",
       "São Paulo                           6.107445  \n",
       "Minas Gerais                        5.657685  \n",
       "Rio de Janeiro                      4.119512  \n",
       "Bahia                               3.944782  \n",
       "Paraná                              6.974209  "
      ]
     },
     "execution_count": 26,
     "metadata": {},
     "output_type": "execute_result"
    }
   ],
   "source": [
    "gastos_e_populacao_recente.head()\n"
   ]
  },
  {
   "cell_type": "code",
   "execution_count": 27,
   "metadata": {
    "colab": {
     "base_uri": "https://localhost:8080/",
     "height": 296
    },
    "id": "I633tT-lQKlw",
    "outputId": "7ebc8a00-0bfc-4fbf-ce50-561ef9b53b6f"
   },
   "outputs": [
    {
     "data": {
      "text/plain": [
       "<AxesSubplot:xlabel='populacao', ylabel='gastos_2020/Jul'>"
      ]
     },
     "execution_count": 27,
     "metadata": {},
     "output_type": "execute_result"
    },
    {
     "data": {
      "image/png": "[encoded data removed]",
      "text/plain": [
       "<Figure size 432x288 with 1 Axes>"
      ]
     },
     "metadata": {
      "needs_background": "light"
     },
     "output_type": "display_data"
    }
   ],
   "source": [
    "import seaborn as sns\n",
    "\n",
    "sns.scatterplot(data=gastos_e_populacao_recente / 1000000, x=\"populacao\", y=\"gastos_2020/Jul\")"
   ]
  },
  {
   "cell_type": "code",
   "execution_count": 28,
   "metadata": {
    "colab": {
     "base_uri": "https://localhost:8080/",
     "height": 459
    },
    "id": "KNaGILNGRFjj",
    "outputId": "81b100c6-75d2-43b9-8879-5ee32d7959b1"
   },
   "outputs": [
    {
     "data": {
      "text/plain": [
       "<AxesSubplot:xlabel='populacao', ylabel='gastos_2020/Jul'>"
      ]
     },
     "execution_count": 28,
     "metadata": {},
     "output_type": "execute_result"
    },
    {
     "data": {
      "image/png": "[encoded data removed]",
      "text/plain": [
       "<Figure size 504x504 with 1 Axes>"
      ]
     },
     "metadata": {
      "needs_background": "light"
     },
     "output_type": "display_data"
    }
   ],
   "source": [
    "plt.figure(figsize=(7,7))\n",
    "sns.scatterplot(data=gastos_e_populacao_recente / 1000000, x=\"populacao\", y=\"gastos_2020/Jul\")"
   ]
  },
  {
   "cell_type": "code",
   "execution_count": 29,
   "metadata": {
    "colab": {
     "base_uri": "https://localhost:8080/",
     "height": 459
    },
    "id": "U7VjRlfSQdg7",
    "outputId": "3d013705-67ab-47b3-c241-d1dc170c8b09"
   },
   "outputs": [
    {
     "data": {
      "text/plain": [
       "<AxesSubplot:xlabel='populacao', ylabel='gasto_por_habitante_2020/Jul'>"
      ]
     },
     "execution_count": 29,
     "metadata": {},
     "output_type": "execute_result"
    },
    {
     "data": {
      "image/png": "[encoded data removed]",
      "text/plain": [
       "<Figure size 504x504 with 1 Axes>"
      ]
     },
     "metadata": {
      "needs_background": "light"
     },
     "output_type": "display_data"
    }
   ],
   "source": [
    "plt.figure(figsize=(7,7))\n",
    "sns.scatterplot(data=gastos_e_populacao_recente, x=\"populacao\", y=\"gasto_por_habitante_2020/Jul\")"
   ]
  },
  {
   "cell_type": "code",
   "execution_count": 38,
   "metadata": {
    "colab": {
     "base_uri": "https://localhost:8080/",
     "height": 305
    },
    "id": "MvXnEFihRnYh",
    "outputId": "6f2db5bd-1a22-433f-d5d1-f7702e0b484f"
   },
   "outputs": [
    {
     "data": {
      "text/html": [
       "<div>\n",
       "<style scoped>\n",
       "    .dataframe tbody tr th:only-of-type {\n",
       "        vertical-align: middle;\n",
       "    }\n",
       "\n",
       "    .dataframe tbody tr th {\n",
       "        vertical-align: top;\n",
       "    }\n",
       "\n",
       "    .dataframe thead th {\n",
       "        text-align: right;\n",
       "    }\n",
       "</style>\n",
       "<table border=\"1\" class=\"dataframe\">\n",
       "  <thead>\n",
       "    <tr style=\"text-align: right;\">\n",
       "      <th></th>\n",
       "      <th>populacao</th>\n",
       "      <th>2020/Jul</th>\n",
       "      <th>gastos_2020/Jul</th>\n",
       "      <th>gasto_por_habitante_2020/Jul</th>\n",
       "      <th>gastos_2020/Jun</th>\n",
       "      <th>gasto_por_habitante_2020/Jun</th>\n",
       "      <th>gastos_2020/Mai</th>\n",
       "      <th>gasto_por_habitante_2020/Mai</th>\n",
       "      <th>gastos_2020/Abr</th>\n",
       "      <th>gasto_por_habitante_2020/Abr</th>\n",
       "    </tr>\n",
       "    <tr>\n",
       "      <th>uf</th>\n",
       "      <th></th>\n",
       "      <th></th>\n",
       "      <th></th>\n",
       "      <th></th>\n",
       "      <th></th>\n",
       "      <th></th>\n",
       "      <th></th>\n",
       "      <th></th>\n",
       "      <th></th>\n",
       "      <th></th>\n",
       "    </tr>\n",
       "  </thead>\n",
       "  <tbody>\n",
       "    <tr>\n",
       "      <th>São Paulo</th>\n",
       "      <td>46289333</td>\n",
       "      <td>282.709570</td>\n",
       "      <td>2.827096e+08</td>\n",
       "      <td>6.107445</td>\n",
       "      <td>2.990609e+08</td>\n",
       "      <td>6.460686</td>\n",
       "      <td>3.028577e+08</td>\n",
       "      <td>6.542710</td>\n",
       "      <td>2.516964e+08</td>\n",
       "      <td>5.437459</td>\n",
       "    </tr>\n",
       "    <tr>\n",
       "      <th>Minas Gerais</th>\n",
       "      <td>21292666</td>\n",
       "      <td>120.467187</td>\n",
       "      <td>1.204672e+08</td>\n",
       "      <td>5.657685</td>\n",
       "      <td>1.359776e+08</td>\n",
       "      <td>6.386122</td>\n",
       "      <td>1.368673e+08</td>\n",
       "      <td>6.427907</td>\n",
       "      <td>1.263306e+08</td>\n",
       "      <td>5.933059</td>\n",
       "    </tr>\n",
       "    <tr>\n",
       "      <th>Rio de Janeiro</th>\n",
       "      <td>17366189</td>\n",
       "      <td>71.540227</td>\n",
       "      <td>7.154023e+07</td>\n",
       "      <td>4.119512</td>\n",
       "      <td>7.760493e+07</td>\n",
       "      <td>4.468737</td>\n",
       "      <td>8.628103e+07</td>\n",
       "      <td>4.968334</td>\n",
       "      <td>6.816077e+07</td>\n",
       "      <td>3.924913</td>\n",
       "    </tr>\n",
       "    <tr>\n",
       "      <th>Bahia</th>\n",
       "      <td>14930634</td>\n",
       "      <td>58.898100</td>\n",
       "      <td>5.889810e+07</td>\n",
       "      <td>3.944782</td>\n",
       "      <td>6.515930e+07</td>\n",
       "      <td>4.364135</td>\n",
       "      <td>6.175678e+07</td>\n",
       "      <td>4.136246</td>\n",
       "      <td>5.910969e+07</td>\n",
       "      <td>3.958954</td>\n",
       "    </tr>\n",
       "    <tr>\n",
       "      <th>Paraná</th>\n",
       "      <td>11516840</td>\n",
       "      <td>80.320853</td>\n",
       "      <td>8.032085e+07</td>\n",
       "      <td>6.974209</td>\n",
       "      <td>9.290146e+07</td>\n",
       "      <td>8.066576</td>\n",
       "      <td>1.061037e+08</td>\n",
       "      <td>9.212921</td>\n",
       "      <td>9.672711e+07</td>\n",
       "      <td>8.398755</td>\n",
       "    </tr>\n",
       "  </tbody>\n",
       "</table>\n",
       "</div>"
      ],
      "text/plain": [
       "                populacao    2020/Jul  gastos_2020/Jul  \\\n",
       "uf                                                       \n",
       "São Paulo        46289333  282.709570     2.827096e+08   \n",
       "Minas Gerais     21292666  120.467187     1.204672e+08   \n",
       "Rio de Janeiro   17366189   71.540227     7.154023e+07   \n",
       "Bahia            14930634   58.898100     5.889810e+07   \n",
       "Paraná           11516840   80.320853     8.032085e+07   \n",
       "\n",
       "                gasto_por_habitante_2020/Jul  gastos_2020/Jun  \\\n",
       "uf                                                              \n",
       "São Paulo                           6.107445     2.990609e+08   \n",
       "Minas Gerais                        5.657685     1.359776e+08   \n",
       "Rio de Janeiro                      4.119512     7.760493e+07   \n",
       "Bahia                               3.944782     6.515930e+07   \n",
       "Paraná                              6.974209     9.290146e+07   \n",
       "\n",
       "                gasto_por_habitante_2020/Jun  gastos_2020/Mai  \\\n",
       "uf                                                              \n",
       "São Paulo                           6.460686     3.028577e+08   \n",
       "Minas Gerais                        6.386122     1.368673e+08   \n",
       "Rio de Janeiro                      4.468737     8.628103e+07   \n",
       "Bahia                               4.364135     6.175678e+07   \n",
       "Paraná                              8.066576     1.061037e+08   \n",
       "\n",
       "                gasto_por_habitante_2020/Mai  gastos_2020/Abr  \\\n",
       "uf                                                              \n",
       "São Paulo                           6.542710     2.516964e+08   \n",
       "Minas Gerais                        6.427907     1.263306e+08   \n",
       "Rio de Janeiro                      4.968334     6.816077e+07   \n",
       "Bahia                               4.136246     5.910969e+07   \n",
       "Paraná                              9.212921     9.672711e+07   \n",
       "\n",
       "                gasto_por_habitante_2020/Abr  \n",
       "uf                                            \n",
       "São Paulo                           5.437459  \n",
       "Minas Gerais                        5.933059  \n",
       "Rio de Janeiro                      3.924913  \n",
       "Bahia                               3.958954  \n",
       "Paraná                              8.398755  "
      ]
     },
     "execution_count": 38,
     "metadata": {},
     "output_type": "execute_result"
    }
   ],
   "source": [
    "insere_gastos_e_gasto_por_habitante_para(ordenado_por_total, gastos_e_populacao_recente, \"2020/Jun\")\n",
    "insere_gastos_e_gasto_por_habitante_para(ordenado_por_total, gastos_e_populacao_recente, \"2020/Mai\")\n",
    "insere_gastos_e_gasto_por_habitante_para(ordenado_por_total, gastos_e_populacao_recente, \"2020/Abr\")\n",
    "gastos_e_populacao_recente.head()"
   ]
  },
  {
   "cell_type": "code",
   "execution_count": 39,
   "metadata": {
    "colab": {
     "base_uri": "https://localhost:8080/",
     "height": 459
    },
    "id": "vEy6GJ5lSdME",
    "outputId": "4cb6fe8a-4290-4205-bb73-e6609cdd3764"
   },
   "outputs": [
    {
     "data": {
      "text/plain": [
       "<AxesSubplot:xlabel='populacao', ylabel='gastos_2020/Jul'>"
      ]
     },
     "execution_count": 39,
     "metadata": {},
     "output_type": "execute_result"
    },
    {
     "data": {
      "image/png": "[encoded data removed]",
      "text/plain": [
       "<Figure size 504x504 with 1 Axes>"
      ]
     },
     "metadata": {
      "needs_background": "light"
     },
     "output_type": "display_data"
    }
   ],
   "source": [
    "plt.figure(figsize=(7,7))\n",
    "sns.scatterplot(data=gastos_e_populacao_recente / 1000000, x=\"populacao\", y=\"gastos_2020/Jul\")\n",
    "sns.scatterplot(data=gastos_e_populacao_recente / 1000000, x=\"populacao\", y=\"gastos_2020/Jun\")\n",
    "sns.scatterplot(data=gastos_e_populacao_recente / 1000000, x=\"populacao\", y=\"gastos_2020/Mai\")\n",
    "sns.scatterplot(data=gastos_e_populacao_recente / 1000000, x=\"populacao\", y=\"gastos_2020/Abr\")"
   ]
  },
  {
   "cell_type": "code",
   "execution_count": 42,
   "metadata": {
    "colab": {
     "base_uri": "https://localhost:8080/",
     "height": 459
    },
    "id": "JUxa3Z1EWg3k",
    "outputId": "e5834024-db95-40c4-d313-65918fe13343"
   },
   "outputs": [
    {
     "data": {
      "text/plain": [
       "<AxesSubplot:xlabel='populacao', ylabel='gasto_por_habitante_2020/Jun'>"
      ]
     },
     "execution_count": 42,
     "metadata": {},
     "output_type": "execute_result"
    },
    {
     "data": {
      "image/png": "[encoded data removed]",
      "text/plain": [
       "<Figure size 504x504 with 1 Axes>"
      ]
     },
     "metadata": {
      "needs_background": "light"
     },
     "output_type": "display_data"
    }
   ],
   "source": [
    "plt.figure(figsize=(7,7))\n",
    "sns.scatterplot(data=gastos_e_populacao_recente, x=\"populacao\", y=\"gasto_por_habitante_2020/Jun\")\n",
    "sns.scatterplot(data=gastos_e_populacao_recente, x=\"populacao\", y=\"gasto_por_habitante_2020/Jul\")\n",
    "sns.scatterplot(data=gastos_e_populacao_recente, x=\"populacao\", y=\"gasto_por_habitante_2020/Mai\")\n",
    "sns.scatterplot(data=gastos_e_populacao_recente, x=\"populacao\", y=\"gasto_por_habitante_2020/Abr\")"
   ]
  },
  {
   "cell_type": "code",
   "execution_count": 33,
   "metadata": {
    "colab": {
     "base_uri": "https://localhost:8080/",
     "height": 459
    },
    "id": "fjqTUCA5XMzp",
    "outputId": "54f0ed2a-9017-4a5b-9b2b-243a494085f7"
   },
   "outputs": [
    {
     "data": {
      "text/plain": [
       "<AxesSubplot:xlabel='populacao', ylabel='gasto_por_habitante_2020/Jun'>"
      ]
     },
     "execution_count": 33,
     "metadata": {},
     "output_type": "execute_result"
    },
    {
     "data": {
      "image/png": "[encoded data removed]",
      "text/plain": [
       "<Figure size 504x504 with 1 Axes>"
      ]
     },
     "metadata": {
      "needs_background": "light"
     },
     "output_type": "display_data"
    }
   ],
   "source": [
    "plt.figure(figsize=(7,7))\n",
    "sns.scatterplot(data=gastos_e_populacao_recente, x=\"populacao\", y=\"gasto_por_habitante_2020/Jun\")"
   ]
  },
  {
   "cell_type": "code",
   "execution_count": 34,
   "metadata": {
    "colab": {
     "base_uri": "https://localhost:8080/",
     "height": 459
    },
    "id": "vkpjxlpkXRTb",
    "outputId": "50a9a288-e957-4d8a-9c18-4537bcca6339"
   },
   "outputs": [
    {
     "data": {
      "text/plain": [
       "<AxesSubplot:xlabel='populacao', ylabel='gasto_por_habitante_2020/Mai'>"
      ]
     },
     "execution_count": 34,
     "metadata": {},
     "output_type": "execute_result"
    },
    {
     "data": {
      "image/png": "[encoded data removed]",
      "text/plain": [
       "<Figure size 504x504 with 1 Axes>"
      ]
     },
     "metadata": {
      "needs_background": "light"
     },
     "output_type": "display_data"
    }
   ],
   "source": [
    "plt.figure(figsize=(7,7))\n",
    "sns.scatterplot(data=gastos_e_populacao_recente, x=\"populacao\", y=\"gasto_por_habitante_2020/Mai\")"
   ]
  },
  {
   "cell_type": "markdown",
   "metadata": {
    "id": "1DyvCRylXRjL"
   },
   "source": [
    " [<- Voltar para o repositório](https://github.com/aureliowozhiak/Bootcamp-Data-Science-Aplicada)"
   ]
  },
  {
   "cell_type": "code",
   "execution_count": null,
   "metadata": {},
   "outputs": [],
   "source": []
  }
 ],
 "metadata": {
  "colab": {
   "collapsed_sections": [],
   "name": "Bootcamp Data Science Hospitalar - 5",
   "provenance": []
  },
  "kernelspec": {
   "display_name": "Python 3",
   "language": "python",
   "name": "python3"
  },
  "language_info": {
   "codemirror_mode": {
    "name": "ipython",
    "version": 3
   },
   "file_extension": ".py",
   "mimetype": "text/x-python",
   "name": "python",
   "nbconvert_exporter": "python",
   "pygments_lexer": "ipython3",
   "version": "3.8.5"
  }
 },
 "nbformat": 4,
 "nbformat_minor": 4
}

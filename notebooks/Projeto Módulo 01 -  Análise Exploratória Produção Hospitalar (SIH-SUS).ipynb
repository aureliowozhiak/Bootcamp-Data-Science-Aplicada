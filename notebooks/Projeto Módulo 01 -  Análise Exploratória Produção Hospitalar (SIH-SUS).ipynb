{
 "cells": [
  {
   "cell_type": "markdown",
   "metadata": {},
   "source": [
    "# Projeto Módulo 01 -  Análise Exploratória: Produção Hospitalar (SIH/SUS)\n",
    "## Análise exploratória dos dados do DATASUS - Produção Hospital (SIH/SUS)\n",
    "\n",
    "# Visão geral do projeto:\n",
    "\n",
    "- ## Nota ténica e origem dos dados utilizados\n",
    "- ## Importação e Organização dos dados\n",
    "- ## Primeiras análises\n",
    "- ## Hipótese\n",
    "- ## Pesquisa complementar\n",
    "- ## Conclusão\n",
    "- ## Referências e citações\n",
    "\n",
    "---\n",
    "\n",
    "\n",
    "## Nota ténica e origem dos dados utilizados\n",
    "\n",
    "Origem dos dados: http://tabnet.datasus.gov.br/cgi/deftohtm.exe?sih/cnv/qiuf.def\n",
    "Nota técnica dos dados: http://tabnet.datasus.gov.br/cgi/sih/Proced_hosp_loc_int_2008.pdf\n",
    "\n",
    "\n",
    "### AIH aprovadas\n",
    "Quantidade de AIH(Autorização de Internação Hospitalar) aprovadas no período, tanto de novas internações como de prorrogação (longa permanência). Não estão computadas as AIH rejeitadas.\n",
    "\n",
    "Filtros aplicados:\n",
    " - Linha: Unidade da Federação\n",
    " - Coluna: Ano/Mês atendimento\n",
    " - Conteúdo: AIH aprovadas\n",
    " - Períodos disponíveis: Jan/2008 até Mar/2021\n",
    " \n",
    "     dataset path: \"../AIH_aprovadas.csv\"\n",
    "\n",
    "\n",
    "### Dias de Permanência\n",
    "Total de dias de internação referentes às AIH aprovadas no período. São contados os\n",
    "dias entre a baixa e a alta. Exemplo: internação = 15/02/2003; alta = 18/02/2003; dias de\n",
    "permanência = 3.\n",
    "Nota: este valor não pode ser utilizado para calcular a ocupação da unidade hospitalar,\n",
    "por incluir períodos fora do mês e os períodos em que o paciente utilizou UTI. \n",
    "\n",
    "Filtros aplicados:\n",
    " - Linha: Unidade da Federação\n",
    " - Coluna: Ano/Mês atendimento\n",
    " - Conteúdo: Dias permanência\n",
    " - Períodos disponíveis: Jan/2008 até Mar/2021\n",
    " \n",
    "     dataset path: \"../datasets/A180928189_28_143_208.csv\"\n",
    " \n",
    " \n",
    " ### Taxa de Mortalidade\n",
    " Razão entre a quantidade de óbitos e o número de AIH aprovadas, computadas como\n",
    "internações, no período, multiplicada por 100. \n",
    "\n",
    " Filtros aplicados:\n",
    " - Linha: Unidade da Federação\n",
    " - Coluna: Ano/Mês atendimento\n",
    " - Conteúdo: Taxa de mortalidade\n",
    " - Períodos disponíveis: Jan/2008 até Mar/2021\n",
    " \n",
    "    datset path: \"../datasets/A180955189_28_143_208.csv\""
   ]
  },
  {
   "cell_type": "code",
   "execution_count": null,
   "metadata": {},
   "outputs": [],
   "source": []
  },
  {
   "cell_type": "code",
   "execution_count": null,
   "metadata": {},
   "outputs": [],
   "source": []
  }
 ],
 "metadata": {
  "kernelspec": {
   "display_name": "Python 3",
   "language": "python",
   "name": "python3"
  },
  "language_info": {
   "codemirror_mode": {
    "name": "ipython",
    "version": 3
   },
   "file_extension": ".py",
   "mimetype": "text/x-python",
   "name": "python",
   "nbconvert_exporter": "python",
   "pygments_lexer": "ipython3",
   "version": "3.8.5"
  }
 },
 "nbformat": 4,
 "nbformat_minor": 4
}

{
 "cells": [
  {
   "cell_type": "markdown",
   "metadata": {},
   "source": [
    "# 01.5 - Fontes externas, limpeza e manipulação de dados\n",
    "## Tratamento, exploração e visualização de dados Tratamento, exploração e visualização de dados\n",
    "\n",
    "Dataset: http://tabnet.datasus.gov.br/cgi/deftohtm.exe?sih/cnv/qiuf.def\n",
    "Filtros aplicados:\n",
    " - Linha: Unidade da Federação\n",
    " - Coluna: Ano/Mês atendimento\n",
    " - Conteúdo: Valor total\n",
    " - Períodos disponíveis: Jan/2008 até Mar/2021\n",
    " \n",
    " [<- Voltar para o repositório](https://github.com/aureliowozhiak/Bootcamp-Data-Science-Aplicada)"
   ]
  },
  {
   "cell_type": "code",
   "execution_count": 7,
   "metadata": {},
   "outputs": [],
   "source": [
    "#importando biblioteca pandas\n",
    "import pandas as pd"
   ]
  },
  {
   "cell_type": "code",
   "execution_count": 8,
   "metadata": {},
   "outputs": [
    {
     "data": {
      "text/html": [
       "<div>\n",
       "<style scoped>\n",
       "    .dataframe tbody tr th:only-of-type {\n",
       "        vertical-align: middle;\n",
       "    }\n",
       "\n",
       "    .dataframe tbody tr th {\n",
       "        vertical-align: top;\n",
       "    }\n",
       "\n",
       "    .dataframe thead th {\n",
       "        text-align: right;\n",
       "    }\n",
       "</style>\n",
       "<table border=\"1\" class=\"dataframe\">\n",
       "  <thead>\n",
       "    <tr style=\"text-align: right;\">\n",
       "      <th></th>\n",
       "      <th>Unidade da Federação</th>\n",
       "      <th>1992/Mar</th>\n",
       "      <th>1992/Abr</th>\n",
       "      <th>1993/Mai</th>\n",
       "      <th>1993/Dez</th>\n",
       "      <th>1994/Jan</th>\n",
       "      <th>1994/Fev</th>\n",
       "      <th>1994/Mai</th>\n",
       "      <th>1994/Ago</th>\n",
       "      <th>1994/Nov</th>\n",
       "      <th>...</th>\n",
       "      <th>2020/Jul</th>\n",
       "      <th>2020/Ago</th>\n",
       "      <th>2020/Set</th>\n",
       "      <th>2020/Out</th>\n",
       "      <th>2020/Nov</th>\n",
       "      <th>2020/Dez</th>\n",
       "      <th>2021/Jan</th>\n",
       "      <th>2021/Fev</th>\n",
       "      <th>2021/Mar</th>\n",
       "      <th>Total</th>\n",
       "    </tr>\n",
       "  </thead>\n",
       "  <tbody>\n",
       "    <tr>\n",
       "      <th>0</th>\n",
       "      <td>11 Rondônia</td>\n",
       "      <td>-</td>\n",
       "      <td>-</td>\n",
       "      <td>-</td>\n",
       "      <td>-</td>\n",
       "      <td>-</td>\n",
       "      <td>-</td>\n",
       "      <td>-</td>\n",
       "      <td>-</td>\n",
       "      <td>-</td>\n",
       "      <td>...</td>\n",
       "      <td>10479989.36</td>\n",
       "      <td>11433467.56</td>\n",
       "      <td>8876900.39</td>\n",
       "      <td>8167253.19</td>\n",
       "      <td>8759013.71</td>\n",
       "      <td>9003402.23</td>\n",
       "      <td>8414690.60</td>\n",
       "      <td>6039419.59</td>\n",
       "      <td>4732441.04</td>\n",
       "      <td>9.964113e+08</td>\n",
       "    </tr>\n",
       "    <tr>\n",
       "      <th>1</th>\n",
       "      <td>12 Acre</td>\n",
       "      <td>-</td>\n",
       "      <td>-</td>\n",
       "      <td>-</td>\n",
       "      <td>-</td>\n",
       "      <td>-</td>\n",
       "      <td>-</td>\n",
       "      <td>-</td>\n",
       "      <td>-</td>\n",
       "      <td>-</td>\n",
       "      <td>...</td>\n",
       "      <td>4053085.41</td>\n",
       "      <td>3658265.59</td>\n",
       "      <td>3470409.45</td>\n",
       "      <td>3267918.69</td>\n",
       "      <td>3393958.27</td>\n",
       "      <td>3711660.71</td>\n",
       "      <td>3005561.16</td>\n",
       "      <td>2272733.90</td>\n",
       "      <td>1137341.65</td>\n",
       "      <td>4.500485e+08</td>\n",
       "    </tr>\n",
       "    <tr>\n",
       "      <th>2</th>\n",
       "      <td>13 Amazonas</td>\n",
       "      <td>-</td>\n",
       "      <td>-</td>\n",
       "      <td>-</td>\n",
       "      <td>-</td>\n",
       "      <td>-</td>\n",
       "      <td>-</td>\n",
       "      <td>-</td>\n",
       "      <td>-</td>\n",
       "      <td>-</td>\n",
       "      <td>...</td>\n",
       "      <td>19303743.16</td>\n",
       "      <td>18687233.58</td>\n",
       "      <td>18628627.49</td>\n",
       "      <td>18728251.20</td>\n",
       "      <td>20451573.77</td>\n",
       "      <td>21546059.48</td>\n",
       "      <td>24439059.57</td>\n",
       "      <td>13679358.06</td>\n",
       "      <td>6799060.80</td>\n",
       "      <td>1.917248e+09</td>\n",
       "    </tr>\n",
       "    <tr>\n",
       "      <th>3</th>\n",
       "      <td>14 Roraima</td>\n",
       "      <td>-</td>\n",
       "      <td>-</td>\n",
       "      <td>-</td>\n",
       "      <td>-</td>\n",
       "      <td>-</td>\n",
       "      <td>-</td>\n",
       "      <td>-</td>\n",
       "      <td>-</td>\n",
       "      <td>-</td>\n",
       "      <td>...</td>\n",
       "      <td>3192075.41</td>\n",
       "      <td>3262354.34</td>\n",
       "      <td>2978629.22</td>\n",
       "      <td>3313296.78</td>\n",
       "      <td>3527263.23</td>\n",
       "      <td>3125021.90</td>\n",
       "      <td>3209323.68</td>\n",
       "      <td>3044798.77</td>\n",
       "      <td>2381844.31</td>\n",
       "      <td>3.288770e+08</td>\n",
       "    </tr>\n",
       "    <tr>\n",
       "      <th>4</th>\n",
       "      <td>15 Pará</td>\n",
       "      <td>-</td>\n",
       "      <td>-</td>\n",
       "      <td>-</td>\n",
       "      <td>-</td>\n",
       "      <td>-</td>\n",
       "      <td>-</td>\n",
       "      <td>-</td>\n",
       "      <td>-</td>\n",
       "      <td>-</td>\n",
       "      <td>...</td>\n",
       "      <td>40496349.97</td>\n",
       "      <td>38793393.54</td>\n",
       "      <td>36965951.76</td>\n",
       "      <td>38406616.21</td>\n",
       "      <td>37043032.10</td>\n",
       "      <td>36914437.92</td>\n",
       "      <td>33887773.65</td>\n",
       "      <td>23343222.94</td>\n",
       "      <td>13069564.31</td>\n",
       "      <td>4.705309e+09</td>\n",
       "    </tr>\n",
       "  </tbody>\n",
       "</table>\n",
       "<p>5 rows × 287 columns</p>\n",
       "</div>"
      ],
      "text/plain": [
       "  Unidade da Federação 1992/Mar 1992/Abr 1993/Mai 1993/Dez 1994/Jan 1994/Fev  \\\n",
       "0          11 Rondônia        -        -        -        -        -        -   \n",
       "1              12 Acre        -        -        -        -        -        -   \n",
       "2          13 Amazonas        -        -        -        -        -        -   \n",
       "3           14 Roraima        -        -        -        -        -        -   \n",
       "4              15 Pará        -        -        -        -        -        -   \n",
       "\n",
       "  1994/Mai 1994/Ago 1994/Nov  ...     2020/Jul     2020/Ago     2020/Set  \\\n",
       "0        -        -        -  ...  10479989.36  11433467.56   8876900.39   \n",
       "1        -        -        -  ...   4053085.41   3658265.59   3470409.45   \n",
       "2        -        -        -  ...  19303743.16  18687233.58  18628627.49   \n",
       "3        -        -        -  ...   3192075.41   3262354.34   2978629.22   \n",
       "4        -        -        -  ...  40496349.97  38793393.54  36965951.76   \n",
       "\n",
       "      2020/Out     2020/Nov     2020/Dez     2021/Jan     2021/Fev  \\\n",
       "0   8167253.19   8759013.71   9003402.23   8414690.60   6039419.59   \n",
       "1   3267918.69   3393958.27   3711660.71   3005561.16   2272733.90   \n",
       "2  18728251.20  20451573.77  21546059.48  24439059.57  13679358.06   \n",
       "3   3313296.78   3527263.23   3125021.90   3209323.68   3044798.77   \n",
       "4  38406616.21  37043032.10  36914437.92  33887773.65  23343222.94   \n",
       "\n",
       "      2021/Mar         Total  \n",
       "0   4732441.04  9.964113e+08  \n",
       "1   1137341.65  4.500485e+08  \n",
       "2   6799060.80  1.917248e+09  \n",
       "3   2381844.31  3.288770e+08  \n",
       "4  13069564.31  4.705309e+09  \n",
       "\n",
       "[5 rows x 287 columns]"
      ]
     },
     "execution_count": 8,
     "metadata": {},
     "output_type": "execute_result"
    }
   ],
   "source": [
    "#lendo o arquivo csv com algumas especificações de enconding, padrão do separador \";\",\n",
    "#e identificador de milhares e decimal\n",
    "#também foi usado os parametros skip pra pular as 3 primeiras e 12 ultimas linhas q não fazem parte dos dados em si!\n",
    "dados = pd.read_csv(\"../datasets/A202613189_28_143_208.csv\", encoding=\"ISO-8859-1\",\n",
    "                   skiprows = 3, sep=\";\", skipfooter=12,\n",
    "                   thousands=\".\", decimal=\",\",engine=\"python\")\n",
    "#mostrando apenas os primeiros dados do dataframe\n",
    "dados.head()"
   ]
  },
  {
   "cell_type": "code",
   "execution_count": 9,
   "metadata": {},
   "outputs": [],
   "source": [
    "#formatando as casas decimais\n",
    "pd.options.display.float_format = \"{:.2f}\".format"
   ]
  },
  {
   "cell_type": "code",
   "execution_count": 10,
   "metadata": {},
   "outputs": [
    {
     "data": {
      "image/png": "[encoded data removed]",
      "text/plain": [
       "<Figure size 720x432 with 1 Axes>"
      ]
     },
     "metadata": {
      "needs_background": "light"
     },
     "output_type": "display_data"
    }
   ],
   "source": [
    "#O pandas não é uma biblioteca gráfica, por conta disso, vamos importar uma biblioteca especifica para plotagem de gráficos\n",
    "import matplotlib.pyplot as plt\n",
    "import matplotlib.ticker as ticker\n",
    "ax = dados.plot(x=\"Unidade da Federação\", y=\"2008/Ago\", kind=\"bar\",figsize=(10,6))\n",
    "ax.yaxis.set_major_formatter(ticker.StrMethodFormatter(\"R$ {x:,.2f}\"))\n",
    "plt.title(\"Valores gastos pelo SUS em R$ por Unidade da Federação em Agosto de 2008\")\n",
    "plt.show()"
   ]
  },
  {
   "cell_type": "code",
   "execution_count": 11,
   "metadata": {},
   "outputs": [],
   "source": [
    "#Pegamos apenas os anos usaveis\n",
    "colunas_usaveis = dados.mean().index.tolist()\n",
    "#adicionamos o indice 0 como \"Unidade da Federação\"\n",
    "colunas_usaveis.insert(0, \"Unidade da Federação\")"
   ]
  },
  {
   "cell_type": "code",
   "execution_count": 12,
   "metadata": {},
   "outputs": [
    {
     "data": {
      "text/html": [
       "<div>\n",
       "<style scoped>\n",
       "    .dataframe tbody tr th:only-of-type {\n",
       "        vertical-align: middle;\n",
       "    }\n",
       "\n",
       "    .dataframe tbody tr th {\n",
       "        vertical-align: top;\n",
       "    }\n",
       "\n",
       "    .dataframe thead th {\n",
       "        text-align: right;\n",
       "    }\n",
       "</style>\n",
       "<table border=\"1\" class=\"dataframe\">\n",
       "  <thead>\n",
       "    <tr style=\"text-align: right;\">\n",
       "      <th></th>\n",
       "      <th>Unidade da Federação</th>\n",
       "      <th>2007/Ago</th>\n",
       "      <th>2007/Set</th>\n",
       "      <th>2007/Out</th>\n",
       "      <th>2007/Nov</th>\n",
       "      <th>2007/Dez</th>\n",
       "      <th>2008/Jan</th>\n",
       "      <th>2008/Fev</th>\n",
       "      <th>2008/Mar</th>\n",
       "      <th>2008/Abr</th>\n",
       "      <th>...</th>\n",
       "      <th>2020/Jul</th>\n",
       "      <th>2020/Ago</th>\n",
       "      <th>2020/Set</th>\n",
       "      <th>2020/Out</th>\n",
       "      <th>2020/Nov</th>\n",
       "      <th>2020/Dez</th>\n",
       "      <th>2021/Jan</th>\n",
       "      <th>2021/Fev</th>\n",
       "      <th>2021/Mar</th>\n",
       "      <th>Total</th>\n",
       "    </tr>\n",
       "  </thead>\n",
       "  <tbody>\n",
       "    <tr>\n",
       "      <th>0</th>\n",
       "      <td>11 Rondônia</td>\n",
       "      <td>4209.37</td>\n",
       "      <td>16397.03</td>\n",
       "      <td>133645.19</td>\n",
       "      <td>346912.84</td>\n",
       "      <td>711758.31</td>\n",
       "      <td>1829559.71</td>\n",
       "      <td>1940792.63</td>\n",
       "      <td>1955721.68</td>\n",
       "      <td>2143353.81</td>\n",
       "      <td>...</td>\n",
       "      <td>10479989.36</td>\n",
       "      <td>11433467.56</td>\n",
       "      <td>8876900.39</td>\n",
       "      <td>8167253.19</td>\n",
       "      <td>8759013.71</td>\n",
       "      <td>9003402.23</td>\n",
       "      <td>8414690.60</td>\n",
       "      <td>6039419.59</td>\n",
       "      <td>4732441.04</td>\n",
       "      <td>996411254.68</td>\n",
       "    </tr>\n",
       "    <tr>\n",
       "      <th>1</th>\n",
       "      <td>12 Acre</td>\n",
       "      <td>10470.07</td>\n",
       "      <td>14001.71</td>\n",
       "      <td>86200.85</td>\n",
       "      <td>301323.68</td>\n",
       "      <td>769612.36</td>\n",
       "      <td>1731744.62</td>\n",
       "      <td>1743978.66</td>\n",
       "      <td>2057439.02</td>\n",
       "      <td>2057829.69</td>\n",
       "      <td>...</td>\n",
       "      <td>4053085.41</td>\n",
       "      <td>3658265.59</td>\n",
       "      <td>3470409.45</td>\n",
       "      <td>3267918.69</td>\n",
       "      <td>3393958.27</td>\n",
       "      <td>3711660.71</td>\n",
       "      <td>3005561.16</td>\n",
       "      <td>2272733.90</td>\n",
       "      <td>1137341.65</td>\n",
       "      <td>450048530.47</td>\n",
       "    </tr>\n",
       "    <tr>\n",
       "      <th>2</th>\n",
       "      <td>13 Amazonas</td>\n",
       "      <td>35752.72</td>\n",
       "      <td>45570.64</td>\n",
       "      <td>416012.30</td>\n",
       "      <td>2020381.79</td>\n",
       "      <td>5949408.99</td>\n",
       "      <td>11419210.08</td>\n",
       "      <td>7934652.10</td>\n",
       "      <td>8641517.13</td>\n",
       "      <td>8531576.49</td>\n",
       "      <td>...</td>\n",
       "      <td>19303743.16</td>\n",
       "      <td>18687233.58</td>\n",
       "      <td>18628627.49</td>\n",
       "      <td>18728251.20</td>\n",
       "      <td>20451573.77</td>\n",
       "      <td>21546059.48</td>\n",
       "      <td>24439059.57</td>\n",
       "      <td>13679358.06</td>\n",
       "      <td>6799060.80</td>\n",
       "      <td>1917247936.05</td>\n",
       "    </tr>\n",
       "    <tr>\n",
       "      <th>3</th>\n",
       "      <td>14 Roraima</td>\n",
       "      <td>4785.91</td>\n",
       "      <td>11858.63</td>\n",
       "      <td>43852.67</td>\n",
       "      <td>369328.51</td>\n",
       "      <td>470676.43</td>\n",
       "      <td>808448.39</td>\n",
       "      <td>771687.83</td>\n",
       "      <td>876091.18</td>\n",
       "      <td>896952.53</td>\n",
       "      <td>...</td>\n",
       "      <td>3192075.41</td>\n",
       "      <td>3262354.34</td>\n",
       "      <td>2978629.22</td>\n",
       "      <td>3313296.78</td>\n",
       "      <td>3527263.23</td>\n",
       "      <td>3125021.90</td>\n",
       "      <td>3209323.68</td>\n",
       "      <td>3044798.77</td>\n",
       "      <td>2381844.31</td>\n",
       "      <td>328876965.09</td>\n",
       "    </tr>\n",
       "    <tr>\n",
       "      <th>4</th>\n",
       "      <td>15 Pará</td>\n",
       "      <td>181159.29</td>\n",
       "      <td>433414.74</td>\n",
       "      <td>1893197.50</td>\n",
       "      <td>5105406.44</td>\n",
       "      <td>13162823.43</td>\n",
       "      <td>21762104.16</td>\n",
       "      <td>20126081.01</td>\n",
       "      <td>22149375.82</td>\n",
       "      <td>23436682.75</td>\n",
       "      <td>...</td>\n",
       "      <td>40496349.97</td>\n",
       "      <td>38793393.54</td>\n",
       "      <td>36965951.76</td>\n",
       "      <td>38406616.21</td>\n",
       "      <td>37043032.10</td>\n",
       "      <td>36914437.92</td>\n",
       "      <td>33887773.65</td>\n",
       "      <td>23343222.94</td>\n",
       "      <td>13069564.31</td>\n",
       "      <td>4705309002.29</td>\n",
       "    </tr>\n",
       "  </tbody>\n",
       "</table>\n",
       "<p>5 rows × 166 columns</p>\n",
       "</div>"
      ],
      "text/plain": [
       "  Unidade da Federação  2007/Ago  2007/Set   2007/Out   2007/Nov    2007/Dez  \\\n",
       "0          11 Rondônia   4209.37  16397.03  133645.19  346912.84   711758.31   \n",
       "1              12 Acre  10470.07  14001.71   86200.85  301323.68   769612.36   \n",
       "2          13 Amazonas  35752.72  45570.64  416012.30 2020381.79  5949408.99   \n",
       "3           14 Roraima   4785.91  11858.63   43852.67  369328.51   470676.43   \n",
       "4              15 Pará 181159.29 433414.74 1893197.50 5105406.44 13162823.43   \n",
       "\n",
       "     2008/Jan    2008/Fev    2008/Mar    2008/Abr  ...    2020/Jul  \\\n",
       "0  1829559.71  1940792.63  1955721.68  2143353.81  ... 10479989.36   \n",
       "1  1731744.62  1743978.66  2057439.02  2057829.69  ...  4053085.41   \n",
       "2 11419210.08  7934652.10  8641517.13  8531576.49  ... 19303743.16   \n",
       "3   808448.39   771687.83   876091.18   896952.53  ...  3192075.41   \n",
       "4 21762104.16 20126081.01 22149375.82 23436682.75  ... 40496349.97   \n",
       "\n",
       "     2020/Ago    2020/Set    2020/Out    2020/Nov    2020/Dez    2021/Jan  \\\n",
       "0 11433467.56  8876900.39  8167253.19  8759013.71  9003402.23  8414690.60   \n",
       "1  3658265.59  3470409.45  3267918.69  3393958.27  3711660.71  3005561.16   \n",
       "2 18687233.58 18628627.49 18728251.20 20451573.77 21546059.48 24439059.57   \n",
       "3  3262354.34  2978629.22  3313296.78  3527263.23  3125021.90  3209323.68   \n",
       "4 38793393.54 36965951.76 38406616.21 37043032.10 36914437.92 33887773.65   \n",
       "\n",
       "     2021/Fev    2021/Mar         Total  \n",
       "0  6039419.59  4732441.04  996411254.68  \n",
       "1  2272733.90  1137341.65  450048530.47  \n",
       "2 13679358.06  6799060.80 1917247936.05  \n",
       "3  3044798.77  2381844.31  328876965.09  \n",
       "4 23343222.94 13069564.31 4705309002.29  \n",
       "\n",
       "[5 rows x 166 columns]"
      ]
     },
     "execution_count": 12,
     "metadata": {},
     "output_type": "execute_result"
    }
   ],
   "source": [
    "dados[colunas_usaveis].head()"
   ]
  },
  {
   "cell_type": "code",
   "execution_count": 13,
   "metadata": {},
   "outputs": [],
   "source": [
    "#criamos um dataframe \"usaveis\"\n",
    "usaveis = dados[colunas_usaveis]"
   ]
  },
  {
   "cell_type": "code",
   "execution_count": 14,
   "metadata": {},
   "outputs": [],
   "source": [
    "#Setamos o index \"Unidade da Federação\"\n",
    "usaveis = usaveis.set_index(\"Unidade da Federação\")"
   ]
  },
  {
   "cell_type": "code",
   "execution_count": 15,
   "metadata": {},
   "outputs": [],
   "source": [
    "usaveis = usaveis.drop(\"Total\", axis=1)"
   ]
  },
  {
   "cell_type": "code",
   "execution_count": 16,
   "metadata": {},
   "outputs": [
    {
     "data": {
      "text/html": [
       "<div>\n",
       "<style scoped>\n",
       "    .dataframe tbody tr th:only-of-type {\n",
       "        vertical-align: middle;\n",
       "    }\n",
       "\n",
       "    .dataframe tbody tr th {\n",
       "        vertical-align: top;\n",
       "    }\n",
       "\n",
       "    .dataframe thead th {\n",
       "        text-align: right;\n",
       "    }\n",
       "</style>\n",
       "<table border=\"1\" class=\"dataframe\">\n",
       "  <thead>\n",
       "    <tr style=\"text-align: right;\">\n",
       "      <th></th>\n",
       "      <th>2007/Ago</th>\n",
       "      <th>2007/Set</th>\n",
       "      <th>2007/Out</th>\n",
       "      <th>2007/Nov</th>\n",
       "      <th>2007/Dez</th>\n",
       "      <th>2008/Jan</th>\n",
       "      <th>2008/Fev</th>\n",
       "      <th>2008/Mar</th>\n",
       "      <th>2008/Abr</th>\n",
       "      <th>2008/Mai</th>\n",
       "      <th>...</th>\n",
       "      <th>2020/Jun</th>\n",
       "      <th>2020/Jul</th>\n",
       "      <th>2020/Ago</th>\n",
       "      <th>2020/Set</th>\n",
       "      <th>2020/Out</th>\n",
       "      <th>2020/Nov</th>\n",
       "      <th>2020/Dez</th>\n",
       "      <th>2021/Jan</th>\n",
       "      <th>2021/Fev</th>\n",
       "      <th>2021/Mar</th>\n",
       "    </tr>\n",
       "    <tr>\n",
       "      <th>Unidade da Federação</th>\n",
       "      <th></th>\n",
       "      <th></th>\n",
       "      <th></th>\n",
       "      <th></th>\n",
       "      <th></th>\n",
       "      <th></th>\n",
       "      <th></th>\n",
       "      <th></th>\n",
       "      <th></th>\n",
       "      <th></th>\n",
       "      <th></th>\n",
       "      <th></th>\n",
       "      <th></th>\n",
       "      <th></th>\n",
       "      <th></th>\n",
       "      <th></th>\n",
       "      <th></th>\n",
       "      <th></th>\n",
       "      <th></th>\n",
       "      <th></th>\n",
       "      <th></th>\n",
       "    </tr>\n",
       "  </thead>\n",
       "  <tbody>\n",
       "    <tr>\n",
       "      <th>32 Espírito Santo</th>\n",
       "      <td>57408.11</td>\n",
       "      <td>284224.80</td>\n",
       "      <td>1152115.25</td>\n",
       "      <td>2296383.23</td>\n",
       "      <td>5724199.54</td>\n",
       "      <td>16212109.41</td>\n",
       "      <td>10032886.43</td>\n",
       "      <td>12262049.08</td>\n",
       "      <td>12453466.98</td>\n",
       "      <td>11789786.09</td>\n",
       "      <td>...</td>\n",
       "      <td>31958199.08</td>\n",
       "      <td>41931102.65</td>\n",
       "      <td>36405257.36</td>\n",
       "      <td>34491126.71</td>\n",
       "      <td>34800541.67</td>\n",
       "      <td>35708727.33</td>\n",
       "      <td>40500910.57</td>\n",
       "      <td>33767261.13</td>\n",
       "      <td>25669612.63</td>\n",
       "      <td>15606368.11</td>\n",
       "    </tr>\n",
       "    <tr>\n",
       "      <th>31 Minas Gerais</th>\n",
       "      <td>971394.37</td>\n",
       "      <td>2861781.50</td>\n",
       "      <td>10018011.35</td>\n",
       "      <td>21730281.63</td>\n",
       "      <td>43429517.54</td>\n",
       "      <td>206208080.90</td>\n",
       "      <td>70301089.50</td>\n",
       "      <td>79119005.51</td>\n",
       "      <td>79046322.41</td>\n",
       "      <td>79268070.12</td>\n",
       "      <td>...</td>\n",
       "      <td>157276616.50</td>\n",
       "      <td>177466638.10</td>\n",
       "      <td>182176122.99</td>\n",
       "      <td>181422500.43</td>\n",
       "      <td>174585638.28</td>\n",
       "      <td>168564708.16</td>\n",
       "      <td>166376967.67</td>\n",
       "      <td>155064483.25</td>\n",
       "      <td>119877417.15</td>\n",
       "      <td>79780838.00</td>\n",
       "    </tr>\n",
       "    <tr>\n",
       "      <th>24 Rio Grande do Norte</th>\n",
       "      <td>134605.36</td>\n",
       "      <td>272088.08</td>\n",
       "      <td>684678.30</td>\n",
       "      <td>1695824.89</td>\n",
       "      <td>4730811.68</td>\n",
       "      <td>11763899.23</td>\n",
       "      <td>9110108.87</td>\n",
       "      <td>10126626.54</td>\n",
       "      <td>10964234.85</td>\n",
       "      <td>11032871.23</td>\n",
       "      <td>...</td>\n",
       "      <td>23027750.86</td>\n",
       "      <td>28608103.39</td>\n",
       "      <td>25721339.11</td>\n",
       "      <td>25098604.18</td>\n",
       "      <td>25257993.78</td>\n",
       "      <td>24312931.74</td>\n",
       "      <td>27277816.41</td>\n",
       "      <td>23228004.80</td>\n",
       "      <td>18186942.80</td>\n",
       "      <td>8733455.36</td>\n",
       "    </tr>\n",
       "    <tr>\n",
       "      <th>17 Tocantins</th>\n",
       "      <td>4113.76</td>\n",
       "      <td>76633.06</td>\n",
       "      <td>343702.61</td>\n",
       "      <td>1068685.94</td>\n",
       "      <td>3022200.87</td>\n",
       "      <td>5136474.61</td>\n",
       "      <td>5051932.07</td>\n",
       "      <td>5200151.87</td>\n",
       "      <td>5343714.73</td>\n",
       "      <td>5344487.99</td>\n",
       "      <td>...</td>\n",
       "      <td>7871556.55</td>\n",
       "      <td>7934629.02</td>\n",
       "      <td>6488927.84</td>\n",
       "      <td>4229376.60</td>\n",
       "      <td>1853045.23</td>\n",
       "      <td>509009.74</td>\n",
       "      <td>689383.43</td>\n",
       "      <td>347626.85</td>\n",
       "      <td>416534.32</td>\n",
       "      <td>928756.84</td>\n",
       "    </tr>\n",
       "    <tr>\n",
       "      <th>53 Distrito Federal</th>\n",
       "      <td>191951.47</td>\n",
       "      <td>769966.25</td>\n",
       "      <td>2165619.56</td>\n",
       "      <td>3813256.48</td>\n",
       "      <td>7121965.42</td>\n",
       "      <td>10561085.46</td>\n",
       "      <td>10215956.80</td>\n",
       "      <td>11627918.26</td>\n",
       "      <td>11922015.36</td>\n",
       "      <td>11900817.00</td>\n",
       "      <td>...</td>\n",
       "      <td>25045580.62</td>\n",
       "      <td>26428483.82</td>\n",
       "      <td>23875303.68</td>\n",
       "      <td>21771866.33</td>\n",
       "      <td>23087586.62</td>\n",
       "      <td>20668526.36</td>\n",
       "      <td>22552034.04</td>\n",
       "      <td>22573869.50</td>\n",
       "      <td>19004029.87</td>\n",
       "      <td>14731938.43</td>\n",
       "    </tr>\n",
       "  </tbody>\n",
       "</table>\n",
       "<p>5 rows × 164 columns</p>\n",
       "</div>"
      ],
      "text/plain": [
       "                        2007/Ago   2007/Set    2007/Out    2007/Nov  \\\n",
       "Unidade da Federação                                                  \n",
       "32 Espírito Santo       57408.11  284224.80  1152115.25  2296383.23   \n",
       "31 Minas Gerais        971394.37 2861781.50 10018011.35 21730281.63   \n",
       "24 Rio Grande do Norte 134605.36  272088.08   684678.30  1695824.89   \n",
       "17 Tocantins             4113.76   76633.06   343702.61  1068685.94   \n",
       "53 Distrito Federal    191951.47  769966.25  2165619.56  3813256.48   \n",
       "\n",
       "                          2007/Dez     2008/Jan    2008/Fev    2008/Mar  \\\n",
       "Unidade da Federação                                                      \n",
       "32 Espírito Santo       5724199.54  16212109.41 10032886.43 12262049.08   \n",
       "31 Minas Gerais        43429517.54 206208080.90 70301089.50 79119005.51   \n",
       "24 Rio Grande do Norte  4730811.68  11763899.23  9110108.87 10126626.54   \n",
       "17 Tocantins            3022200.87   5136474.61  5051932.07  5200151.87   \n",
       "53 Distrito Federal     7121965.42  10561085.46 10215956.80 11627918.26   \n",
       "\n",
       "                          2008/Abr    2008/Mai  ...     2020/Jun     2020/Jul  \\\n",
       "Unidade da Federação                            ...                             \n",
       "32 Espírito Santo      12453466.98 11789786.09  ...  31958199.08  41931102.65   \n",
       "31 Minas Gerais        79046322.41 79268070.12  ... 157276616.50 177466638.10   \n",
       "24 Rio Grande do Norte 10964234.85 11032871.23  ...  23027750.86  28608103.39   \n",
       "17 Tocantins            5343714.73  5344487.99  ...   7871556.55   7934629.02   \n",
       "53 Distrito Federal    11922015.36 11900817.00  ...  25045580.62  26428483.82   \n",
       "\n",
       "                           2020/Ago     2020/Set     2020/Out     2020/Nov  \\\n",
       "Unidade da Federação                                                         \n",
       "32 Espírito Santo       36405257.36  34491126.71  34800541.67  35708727.33   \n",
       "31 Minas Gerais        182176122.99 181422500.43 174585638.28 168564708.16   \n",
       "24 Rio Grande do Norte  25721339.11  25098604.18  25257993.78  24312931.74   \n",
       "17 Tocantins             6488927.84   4229376.60   1853045.23    509009.74   \n",
       "53 Distrito Federal     23875303.68  21771866.33  23087586.62  20668526.36   \n",
       "\n",
       "                           2020/Dez     2021/Jan     2021/Fev    2021/Mar  \n",
       "Unidade da Federação                                                       \n",
       "32 Espírito Santo       40500910.57  33767261.13  25669612.63 15606368.11  \n",
       "31 Minas Gerais        166376967.67 155064483.25 119877417.15 79780838.00  \n",
       "24 Rio Grande do Norte  27277816.41  23228004.80  18186942.80  8733455.36  \n",
       "17 Tocantins              689383.43    347626.85    416534.32   928756.84  \n",
       "53 Distrito Federal     22552034.04  22573869.50  19004029.87 14731938.43  \n",
       "\n",
       "[5 rows x 164 columns]"
      ]
     },
     "execution_count": 16,
     "metadata": {},
     "output_type": "execute_result"
    }
   ],
   "source": [
    "#Usando valores pseudo-aleatórios com uma seed predefinida\n",
    "import numpy as np\n",
    "np.random.seed(687942)\n",
    "\n",
    "usaveis.sample(n=5)"
   ]
  },
  {
   "cell_type": "code",
   "execution_count": 17,
   "metadata": {},
   "outputs": [],
   "source": [
    "usaveis[\"Total\"] = usaveis.sum(axis=1)"
   ]
  },
  {
   "cell_type": "code",
   "execution_count": 19,
   "metadata": {},
   "outputs": [],
   "source": [
    "#Ordenando pelos estados do que mais gastou para o que menos gastou\n",
    "ordenado_por_total = usaveis.sort_values(\"Total\", ascending=False)\n",
    "ordenado_por_total = ordenado_por_total.drop(\"Total\", axis=1)"
   ]
  },
  {
   "cell_type": "code",
   "execution_count": 20,
   "metadata": {},
   "outputs": [
    {
     "data": {
      "text/plain": [
       "['35 São Paulo',\n",
       " '31 Minas Gerais',\n",
       " '41 Paraná',\n",
       " '43 Rio Grande do Sul',\n",
       " '33 Rio de Janeiro']"
      ]
     },
     "execution_count": 20,
     "metadata": {},
     "output_type": "execute_result"
    }
   ],
   "source": [
    "estados = ordenado_por_total.head(5).index.to_list()\n",
    "estados"
   ]
  },
  {
   "cell_type": "code",
   "execution_count": 22,
   "metadata": {},
   "outputs": [
    {
     "data": {
      "text/plain": [
       "['35 São Paulo',\n",
       " '31 Minas Gerais',\n",
       " '41 Paraná',\n",
       " '43 Rio Grande do Sul',\n",
       " '33 Rio de Janeiro',\n",
       " '42 Santa Catarina',\n",
       " '42 Santa Catarina']"
      ]
     },
     "execution_count": 22,
     "metadata": {},
     "output_type": "execute_result"
    }
   ],
   "source": [
    "estados.append(\"42 Santa Catarina\")\n",
    "estados"
   ]
  },
  {
   "cell_type": "code",
   "execution_count": 23,
   "metadata": {},
   "outputs": [],
   "source": [
    "#pegando apenas os dados após esse outlier de 2008/Jan\n",
    "colunas_interessadas = ordenado_por_total.columns[6:]"
   ]
  },
  {
   "cell_type": "code",
   "execution_count": 24,
   "metadata": {},
   "outputs": [],
   "source": [
    "#adicionando regiões!\n",
    "col_regiao=[]\n",
    "regioes=['Norte', 'Nordeste', 'Sudeste', 'Sul', 'Centro-Oeste']\n",
    "\n",
    "for row in ordenado_por_total.iterrows():\n",
    "    \n",
    "    estado=row[0]\n",
    "    num_reg = int(estado.split(' ')[0])\n",
    "    new_estado = estado.split(' ', maxsplit =1)[1]\n",
    "    filtrados = ordenado_por_total.rename(index={estado:new_estado})\n",
    "    \n",
    "    if num_reg < 20:\n",
    "        col_regiao.append(regioes[0])\n",
    "    elif num_reg < 30:\n",
    "        col_regiao.append(regioes[1])\n",
    "    elif num_reg < 40:\n",
    "        col_regiao.append(regioes[2])\n",
    "    elif num_reg < 50:\n",
    "        col_regiao.append(regioes[3])\n",
    "    else:\n",
    "        col_regiao.append(regioes[4])"
   ]
  },
  {
   "cell_type": "code",
   "execution_count": 25,
   "metadata": {},
   "outputs": [],
   "source": [
    "ordenado_por_total[\"Região\"] = col_regiao"
   ]
  },
  {
   "cell_type": "code",
   "execution_count": 26,
   "metadata": {},
   "outputs": [],
   "source": [
    "estados_sudeste = ordenado_por_total[\"Região\"] == \"Sudeste\"\n",
    "#adicionando paraná no sudeste :D\n",
    "estados_sudeste[\"41 Paraná\"] = True"
   ]
  },
  {
   "cell_type": "code",
   "execution_count": 29,
   "metadata": {},
   "outputs": [
    {
     "data": {
      "text/plain": [
       "'2021/Mar'"
      ]
     },
     "execution_count": 29,
     "metadata": {},
     "output_type": "execute_result"
    }
   ],
   "source": [
    "mes_mais_recente = ordenado_por_total.columns[-2]\n",
    "mes_mais_recente"
   ]
  },
  {
   "cell_type": "code",
   "execution_count": 30,
   "metadata": {},
   "outputs": [
    {
     "data": {
      "text/plain": [
       "<AxesSubplot:xlabel='Unidade da Federação'>"
      ]
     },
     "execution_count": 30,
     "metadata": {},
     "output_type": "execute_result"
    },
    {
     "data": {
      "image/png": "[encoded data removed]",
      "text/plain": [
       "<Figure size 432x288 with 1 Axes>"
      ]
     },
     "metadata": {
      "needs_background": "light"
     },
     "output_type": "display_data"
    }
   ],
   "source": [
    "gasto_do_mais_recente = ordenado_por_total[mes_mais_recente]\n",
    "gasto_do_mais_recente.plot()"
   ]
  },
  {
   "cell_type": "code",
   "execution_count": 31,
   "metadata": {},
   "outputs": [
    {
     "data": {
      "text/plain": [
       "<AxesSubplot:xlabel='Unidade da Federação'>"
      ]
     },
     "execution_count": 31,
     "metadata": {},
     "output_type": "execute_result"
    },
    {
     "data": {
      "image/png": "[encoded data removed]",
      "text/plain": [
       "<Figure size 432x288 with 1 Axes>"
      ]
     },
     "metadata": {
      "needs_background": "light"
     },
     "output_type": "display_data"
    }
   ],
   "source": [
    "gasto_do_mais_recente.sort_values().plot(kind='bar')"
   ]
  },
  {
   "cell_type": "code",
   "execution_count": 32,
   "metadata": {},
   "outputs": [
    {
     "data": {
      "text/plain": [
       "Unidade da Federação\n",
       "35 São Paulo             177408317.71\n",
       "31 Minas Gerais           79780838.00\n",
       "41 Paraná                 43480729.07\n",
       "43 Rio Grande do Sul      37798832.80\n",
       "33 Rio de Janeiro         49149884.48\n",
       "29 Bahia                  31314602.44\n",
       "26 Pernambuco             39472738.81\n",
       "42 Santa Catarina         19375822.56\n",
       "23 Ceará                  17173151.55\n",
       "52 Goiás                  24867001.02\n",
       "15 Pará                   13069564.31\n",
       "21 Maranhão               17294509.11\n",
       "32 Espírito Santo         15606368.11\n",
       "24 Rio Grande do Norte     8733455.36\n",
       "25 Paraíba                12517894.05\n",
       "53 Distrito Federal       14731938.43\n",
       "50 Mato Grosso do Sul      4035989.77\n",
       "22 Piauí                   9542151.53\n",
       "27 Alagoas                 8180887.21\n",
       "51 Mato Grosso             8835890.09\n",
       "13 Amazonas                6799060.80\n",
       "28 Sergipe                 3081081.42\n",
       "17 Tocantins                928756.84\n",
       "11 Rondônia                4732441.04\n",
       "12 Acre                    1137341.65\n",
       "14 Roraima                 2381844.31\n",
       "16 Amapá                    989155.40\n",
       "Name: 2021/Mar, dtype: float64"
      ]
     },
     "execution_count": 32,
     "metadata": {},
     "output_type": "execute_result"
    }
   ],
   "source": [
    "gasto_do_mais_recente"
   ]
  },
  {
   "cell_type": "code",
   "execution_count": 35,
   "metadata": {},
   "outputs": [
    {
     "data": {
      "image/png": "[encoded data removed]",
      "text/plain": [
       "<Figure size 432x288 with 1 Axes>"
      ]
     },
     "metadata": {
      "needs_background": "light"
     },
     "output_type": "display_data"
    }
   ],
   "source": [
    "gasto_do_mais_recente.sort_values().plot(kind='bar')\n",
    "plt.grid() #adiciona o grid no grafico!"
   ]
  },
  {
   "cell_type": "code",
   "execution_count": 39,
   "metadata": {},
   "outputs": [
    {
     "data": {
      "image/png": "[encoded data removed]",
      "text/plain": [
       "<Figure size 720x432 with 1 Axes>"
      ]
     },
     "metadata": {
      "needs_background": "light"
     },
     "output_type": "display_data"
    }
   ],
   "source": [
    "#grafico em função do paraná, por exemplo, são paulo é 4 vezes maior q o paraná!\n",
    "func_parana = gasto_do_mais_recente / gasto_do_mais_recente[\"41 Paraná\"]\n",
    "\n",
    "listacores = []\n",
    "for i in func_parana.sort_values(ascending=True).index:\n",
    "    if i[0:2] != \"41\":\n",
    "        listacores.append(\"blue\")\n",
    "    else:\n",
    "        listacores.append(\"red\")        \n",
    "        \n",
    "ax = func_parana.sort_values(ascending=True).plot(kind='bar', figsize=(10,6), color=listacores)"
   ]
  },
  {
   "cell_type": "code",
   "execution_count": 46,
   "metadata": {},
   "outputs": [
    {
     "name": "stdout",
     "output_type": "stream",
     "text": [
      "Gastos proporcionais em %\n"
     ]
    },
    {
     "data": {
      "image/png": "[encoded data removed]",
      "text/plain": [
       "<Figure size 432x288 with 1 Axes>"
      ]
     },
     "metadata": {
      "needs_background": "light"
     },
     "output_type": "display_data"
    }
   ],
   "source": [
    "gastos_proporcionais = (gasto_do_mais_recente / gasto_do_mais_recente.sum())*100\n",
    "gastos_proporcionais.sort_values(ascending=False).plot(kind=\"bar\")\n",
    "print(\"Gastos proporcionais em %\")"
   ]
  },
  {
   "cell_type": "markdown",
   "metadata": {},
   "source": [
    " [<- Voltar para o repositório](https://github.com/aureliowozhiak/Bootcamp-Data-Science-Aplicada)"
   ]
  },
  {
   "cell_type": "code",
   "execution_count": null,
   "metadata": {},
   "outputs": [],
   "source": []
  }
 ],
 "metadata": {
  "kernelspec": {
   "display_name": "Python 3",
   "language": "python",
   "name": "python3"
  },
  "language_info": {
   "codemirror_mode": {
    "name": "ipython",
    "version": 3
   },
   "file_extension": ".py",
   "mimetype": "text/x-python",
   "name": "python",
   "nbconvert_exporter": "python",
   "pygments_lexer": "ipython3",
   "version": "3.8.5"
  }
 },
 "nbformat": 4,
 "nbformat_minor": 4
}
